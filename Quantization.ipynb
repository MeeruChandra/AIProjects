{
 "cells": [
  {
   "cell_type": "code",
   "execution_count": null,
   "id": "29281dc8-f579-4031-b6f1-cafb5dd2ab43",
   "metadata": {},
   "outputs": [],
   "source": []
  }
 ],
 "metadata": {
  "kernelspec": {
   "display_name": "",
   "name": ""
  },
  "language_info": {
   "name": ""
  }
 },
 "nbformat": 4,
 "nbformat_minor": 5
}
