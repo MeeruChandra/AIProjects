{
 "cells": [
  {
   "cell_type": "code",
   "execution_count": 10,
   "id": "5e4507a9-c3c1-4f46-ad66-0b3e09d57a30",
   "metadata": {},
   "outputs": [],
   "source": [
    "# imports\n",
    "\n",
    "import os\n",
    "from dotenv import load_dotenv\n",
    "import google.generativeai\n",
    "from IPython.display import Markdown, display, update_display"
   ]
  },
  {
   "cell_type": "code",
   "execution_count": 11,
   "id": "34b91f50-812f-49dc-af77-d452361757af",
   "metadata": {},
   "outputs": [],
   "source": [
    "# Load environment variables in a file called .env\n",
    "# Print the key prefixes to help with any debugging\n",
    "\n",
    "load_dotenv()\n",
    "google_api_key = os.getenv('GOOGLE_API_KEY')"
   ]
  },
  {
   "cell_type": "code",
   "execution_count": 12,
   "id": "a1b156c8-53c6-4479-b99a-e4142807f44c",
   "metadata": {},
   "outputs": [],
   "source": [
    "# This is the set up code for Gemini\n",
    "# Having problems with Google Gemini setup? Then just ignore this cell; when we use Gemini, I'll give you an alternative that bypasses this library altogether\n",
    "\n",
    "google.generativeai.configure()"
   ]
  },
  {
   "cell_type": "code",
   "execution_count": 13,
   "id": "93047480-05d8-4ef1-a7d8-d72aad20b8fc",
   "metadata": {},
   "outputs": [],
   "source": [
    "system_message = \"You are an assistant that is great at telling jokes\"\n",
    "user_prompt = \"Tell a light-hearted joke for an audience of Data Scientists\""
   ]
  },
  {
   "cell_type": "code",
   "execution_count": 14,
   "id": "b1095d48-a968-4af6-a5ee-2ee08a522742",
   "metadata": {},
   "outputs": [],
   "source": [
    "prompts = [\n",
    "    {\"role\": \"system\", \"content\": system_message},\n",
    "    {\"role\": \"user\", \"content\": user_prompt}\n",
    "  ]"
   ]
  },
  {
   "cell_type": "code",
   "execution_count": 22,
   "id": "c24137de-80c1-4906-a3c2-d64a95ee9147",
   "metadata": {},
   "outputs": [
    {
     "name": "stdout",
     "output_type": "stream",
     "text": [
      "Why was the data scientist sad?  Because he didn't get the results he'd hoped for... and his p-value was greater than 0.05!\n",
      "\n"
     ]
    }
   ],
   "source": [
    "# The API for Gemini has a slightly different structure.\n",
    "# I've heard that on some PCs, this Gemini code causes the Kernel to crash.\n",
    "# If that happens to you, please skip this cell and use the next cell instead - an alternative approach.\n",
    "\n",
    "gemini = google.generativeai.GenerativeModel(\n",
    "    model_name='gemini-1.5-flash',\n",
    "    system_instruction=system_message\n",
    ")\n",
    "response = gemini.generate_content(user_prompt)\n",
    "print(response.text)"
   ]
  },
  {
   "cell_type": "markdown",
   "id": "ad424227-c6f8-40b5-9343-bd3d70d17a5d",
   "metadata": {},
   "source": [
    "# LangChain"
   ]
  },
  {
   "cell_type": "code",
   "execution_count": 15,
   "id": "194a723b-c716-4471-aba5-1bc60d435a78",
   "metadata": {},
   "outputs": [],
   "source": [
    "from langchain.prompts import FewShotPromptTemplate, PromptTemplate\n",
    "from langchain_google_genai import ChatGoogleGenerativeAI\n",
    "from langchain.pydantic_v1 import BaseModel\n",
    "from langchain.pydantic_v1 import BaseModel\n",
    "from langchain_experimental.tabular_synthetic_data.base import SyntheticDataGenerator\n",
    "from langchain_experimental.tabular_synthetic_data.prompts import SYNTHETIC_FEW_SHOT_SUFFIX, SYNTHETIC_FEW_SHOT_PREFIX\n"
   ]
  },
  {
   "cell_type": "code",
   "execution_count": 16,
   "id": "49b93676-9d7e-4e4f-ab67-6adc58976110",
   "metadata": {},
   "outputs": [],
   "source": [
    "llm = ChatGoogleGenerativeAI(\n",
    "        model=\"gemini-1.5-pro\",\n",
    "        temperature=0,\n",
    "        max_token=50,\n",
    "        timeout=None,\n",
    "        max_retries=2\n",
    "        )"
   ]
  },
  {
   "cell_type": "code",
   "execution_count": 193,
   "id": "0a5b9d2c-44a1-4b52-8498-cea0fe582b4f",
   "metadata": {},
   "outputs": [
    {
     "data": {
      "text/plain": [
       "AIMessage(content='Why was the dataset always tired?\\n\\nBecause it kept running regressions all night! \\n', additional_kwargs={}, response_metadata={'prompt_feedback': {'block_reason': 0, 'safety_ratings': []}, 'finish_reason': 'STOP', 'safety_ratings': []}, id='run-7f614158-b349-45b4-a095-aa5c41cfc47d-0', usage_metadata={'input_tokens': 23, 'output_tokens': 18, 'total_tokens': 41, 'input_token_details': {'cache_read': 0}})"
      ]
     },
     "execution_count": 193,
     "metadata": {},
     "output_type": "execute_result"
    }
   ],
   "source": [
    "ai_msg = llm.invoke(prompts)\n",
    "ai_msg"
   ]
  },
  {
   "cell_type": "markdown",
   "id": "a15a3d7b-b101-455e-9794-14906df89cd2",
   "metadata": {},
   "source": [
    "## Define class object "
   ]
  },
  {
   "cell_type": "code",
   "execution_count": 73,
   "id": "a1cb3dc6-948f-4290-a0f7-460e6f80bb9d",
   "metadata": {},
   "outputs": [],
   "source": [
    "from pydantic import BaseModel, Field\n",
    "class PotentialAccidents(BaseModel):\n",
    "    patient_id : int = Field(..., description=\"6 digit numeric id of the patient\")\n",
    "    patient_name: str = Field(..., description=\"A full name, e.g., John Doe\")\n",
    "    diagonosis_code :str= Field(..., description=\"Diagnosis Code starts with character in (D,R,C,S) followed by 4 numbers, e.g., D2312\")\n",
    "    insurance_claim_amount :float= Field(..., description=\"Dollar amount of the claims. e.g $123\")\n"
   ]
  },
  {
   "cell_type": "code",
   "execution_count": 158,
   "id": "b0ff33e8-333f-48b5-aab9-b71c99c019f8",
   "metadata": {},
   "outputs": [],
   "source": [
    "def generate_prompt_from_pydantic(model: BaseModel):\n",
    "    schema = model.schema()[\"properties\"]\n",
    "    schema_description = []\n",
    "\n",
    "    for field_name, field_info in schema.items():\n",
    "        field_type = field_info.get(\"type\", \"unknown\")\n",
    "        description = field_info.get(\"description\", \"\")\n",
    "        \n",
    "        # Add constraints like minimum, maximum values\n",
    "        constraints = []\n",
    "        if \"minimum\" in field_info:\n",
    "            constraints.append(f\"minimum: {field_info['minimum']}\")\n",
    "        if \"maximum\" in field_info:\n",
    "            constraints.append(f\"maximum: {field_info['maximum']}\")\n",
    "\n",
    "        # Combine type, description, and constraints\n",
    "        constraint_str = f\" ({', '.join(constraints)})\" if constraints else \"\"\n",
    "        schema_description.append(\n",
    "            f'\"{field_name}\": \"{field_type}{constraint_str} ({description})\"'\n",
    "        )\n",
    " \n",
    "    schema_str = \",\\n    \".join(schema_description)\n",
    "    return f\"\"\"You are a synthetic data generator. Generate list of data in the following JSON format:\n",
    "            Output each JSON object on a new line seperated by a comma \n",
    "            {{\n",
    "                {schema_str}\n",
    "            }}\n",
    "            Ensure the output strictly adheres to this format and includes realistic and diverse values for each field.\"\"\"\n"
   ]
  },
  {
   "cell_type": "code",
   "execution_count": 17,
   "id": "54a055ea-c084-40c0-bd7e-5dbdbbef3f85",
   "metadata": {},
   "outputs": [],
   "source": []
  },
  {
   "cell_type": "code",
   "execution_count": 196,
   "id": "9d2df0d9-6a58-4c88-93fb-456831d25d89",
   "metadata": {},
   "outputs": [
    {
     "data": {
      "text/plain": [
       "'\"patient_id\": \"integer (6 digit numeric id of the patient)\",\\n    \"patient_name\": \"string (A full name, e.g., John Doe)\",\\n    \"diagonosis_code\": \"string (Diagnosis Code starts with character in (D,R,C,S) followed by 4 numbers, e.g., D2312)\",\\n    \"insurance_claim_amount\": \"number (Dollar amount of the claims. e.g $123)\"'"
      ]
     },
     "execution_count": 196,
     "metadata": {},
     "output_type": "execute_result"
    }
   ],
   "source": [
    "generate_schema(PotentialAccidents)"
   ]
  },
  {
   "cell_type": "markdown",
   "id": "58f5ba39-61f5-4c37-9f7c-cb641c05262e",
   "metadata": {},
   "source": [
    "## Generate Sample Data"
   ]
  },
  {
   "cell_type": "code",
   "execution_count": 160,
   "id": "95d12b36-4a48-43c6-b185-38d8db2a28c8",
   "metadata": {},
   "outputs": [],
   "source": [
    "examples = [{\"example\": \"\"\"patient_id:123456, patient_name=John Mulcahy, diagonosis_code=D3451,insurance_claim_amount=$452 \"\"\"},\n",
    "            {\"example\": \"\"\"patient_id:542345, patient_name=Jyoti Kaur, diagonosis_code=C4565,insurance_claim_amount=$123 \"\"\"},\n",
    "            {\"example\": \"\"\"patient_id:898767, patient_name=July Macnore, diagonosis_code=R5645,insurance_claim_amount=$523 \"\"\"}\n",
    "            ]"
   ]
  },
  {
   "cell_type": "markdown",
   "id": "d5cc7bfd-4604-4e82-8fd7-4ad46bcf43ac",
   "metadata": {},
   "source": [
    "## Craft Prompt Template"
   ]
  },
  {
   "cell_type": "code",
   "execution_count": 161,
   "id": "81be7840-fcfc-4b04-8567-1268a169c873",
   "metadata": {},
   "outputs": [],
   "source": [
    "GOOGLE_TEMPLATE = PromptTemplate(input_variables =[\"example\"],template =\"{example}\")\n",
    "\n",
    "prompt_template= FewShotPromptTemplate(\n",
    "    prefix= SYNTHETIC_FEW_SHOT_PREFIX,\n",
    "    examples = examples,\n",
    "    suffix=SYNTHETIC_FEW_SHOT_SUFFIX, \n",
    "    input_variables=[\"subject\",\"extra\"],\n",
    "    example_prompt = GOOGLE_TEMPLATE\n",
    ")\n"
   ]
  },
  {
   "cell_type": "code",
   "execution_count": 162,
   "id": "09909d71-c0e8-4c6f-bd80-dbaf13859c95",
   "metadata": {},
   "outputs": [],
   "source": [
    "generator = SyntheticDataGenerator(template=prompt_template, llm=llm)\n",
    "results = generator.generate(subject=\"Patients Data\", \n",
    "                             extra=generate_prompt_from_pydantic(PotentialAccidents)\n",
    "                             , runs=1)"
   ]
  },
  {
   "cell_type": "code",
   "execution_count": 168,
   "id": "f341f1f7-1f31-4e80-bfa6-3c1c68f43db7",
   "metadata": {},
   "outputs": [
    {
     "name": "stdout",
     "output_type": "stream",
     "text": [
      "['{\"patient_id\": \"789012\", \"patient_name\": \"Alice Johnson\", \"diagonosis_code\": \"D1234\", \"insurance_claim_amount\": \"$321\"},\\n{\"patient_id\": \"345678\", \"patient_name\": \"Bob Smith\", \"diagonosis_code\": \"R5678\", \"insurance_claim_amount\": \"$654\"},\\n{\"patient_id\": \"901234\", \"patient_name\": \"Eva Garcia\", \"diagonosis_code\": \"C9012\", \"insurance_claim_amount\": \"$987\"},\\n{\"patient_id\": \"567890\", \"patient_name\": \"Michael Lee\", \"diagonosis_code\": \"S3456\", \"insurance_claim_amount\": \"$210\"},\\n{\"patient_id\": \"123456\", \"patient_name\": \"Maria Rodriguez\", \"diagonosis_code\": \"D7890\", \"insurance_claim_amount\": \"$543\"},\\n{\"patient_id\": \"789012\", \"patient_name\": \"David Williams\", \"diagonosis_code\": \"R1234\", \"insurance_claim_amount\": \"$876\"},\\n{\"patient_id\": \"345678\", \"patient_name\": \"Sarah Brown\", \"diagonosis_code\": \"C5678\", \"insurance_claim_amount\": \"$109\"},\\n{\"patient_id\": \"901234\", \"patient_name\": \"Kevin Davis\", \"diagonosis_code\": \"S9012\", \"insurance_claim_amount\": \"$432\"},\\n{\"patient_id\": \"567890\", \"patient_name\": \"Ashley Miller\", \"diagonosis_code\": \"D3456\", \"insurance_claim_amount\": \"$765\"},\\n{\"patient_id\": \"123456\", \"patient_name\": \"Christopher Wilson\", \"diagonosis_code\": \"R7890\", \"insurance_claim_amount\": \"$098\"},\\n{\"patient_id\": \"246802\", \"patient_name\": \"Jessica Moore\", \"diagonosis_code\": \"C1357\", \"insurance_claim_amount\": \"$320\"},\\n{\"patient_id\": \"135791\", \"patient_name\": \"Matthew Taylor\", \"diagonosis_code\": \"S2468\", \"insurance_claim_amount\": \"$650\"},\\n{\"patient_id\": \"975318\", \"patient_name\": \"Andrea Anderson\", \"diagonosis_code\": \"D0246\", \"insurance_claim_amount\": \"$980\"},\\n{\"patient_id\": \"864207\", \"patient_name\": \"Daniel Thomas\", \"diagonosis_code\": \"R1357\", \"insurance_claim_amount\": \"$210\"},\\n{\"patient_id\": \"753096\", \"patient_name\": \"Elizabeth Jackson\", \"diagonosis_code\": \"C2468\", \"insurance_claim_amount\": \"$540\"}\\n']\n"
     ]
    }
   ],
   "source": [
    "print(results)"
   ]
  },
  {
   "cell_type": "code",
   "execution_count": 164,
   "id": "4d8d43ac-7d78-4d2e-a3ec-1d6ca2cf5ec8",
   "metadata": {},
   "outputs": [],
   "source": [
    "list_of_json_objects = json.loads(\"[\"+results[0]+\"]\")"
   ]
  },
  {
   "cell_type": "code",
   "execution_count": 165,
   "id": "e69eee2e-aa30-4fb8-b1f3-21e15cafc000",
   "metadata": {},
   "outputs": [],
   "source": [
    "df = pd.DataFrame(list_of_json_objects)"
   ]
  },
  {
   "cell_type": "code",
   "execution_count": 166,
   "id": "372533a0-5a04-45db-9845-8264aba481a8",
   "metadata": {},
   "outputs": [
    {
     "data": {
      "text/html": [
       "<div>\n",
       "<style scoped>\n",
       "    .dataframe tbody tr th:only-of-type {\n",
       "        vertical-align: middle;\n",
       "    }\n",
       "\n",
       "    .dataframe tbody tr th {\n",
       "        vertical-align: top;\n",
       "    }\n",
       "\n",
       "    .dataframe thead th {\n",
       "        text-align: right;\n",
       "    }\n",
       "</style>\n",
       "<table border=\"1\" class=\"dataframe\">\n",
       "  <thead>\n",
       "    <tr style=\"text-align: right;\">\n",
       "      <th></th>\n",
       "      <th>patient_id</th>\n",
       "      <th>patient_name</th>\n",
       "      <th>diagonosis_code</th>\n",
       "      <th>insurance_claim_amount</th>\n",
       "    </tr>\n",
       "  </thead>\n",
       "  <tbody>\n",
       "    <tr>\n",
       "      <th>0</th>\n",
       "      <td>789012</td>\n",
       "      <td>Alice Johnson</td>\n",
       "      <td>D1234</td>\n",
       "      <td>$321</td>\n",
       "    </tr>\n",
       "    <tr>\n",
       "      <th>1</th>\n",
       "      <td>345678</td>\n",
       "      <td>Bob Smith</td>\n",
       "      <td>R5678</td>\n",
       "      <td>$654</td>\n",
       "    </tr>\n",
       "    <tr>\n",
       "      <th>2</th>\n",
       "      <td>901234</td>\n",
       "      <td>Eva Garcia</td>\n",
       "      <td>C9012</td>\n",
       "      <td>$987</td>\n",
       "    </tr>\n",
       "    <tr>\n",
       "      <th>3</th>\n",
       "      <td>567890</td>\n",
       "      <td>Michael Lee</td>\n",
       "      <td>S3456</td>\n",
       "      <td>$210</td>\n",
       "    </tr>\n",
       "    <tr>\n",
       "      <th>4</th>\n",
       "      <td>123456</td>\n",
       "      <td>Maria Rodriguez</td>\n",
       "      <td>D7890</td>\n",
       "      <td>$543</td>\n",
       "    </tr>\n",
       "    <tr>\n",
       "      <th>5</th>\n",
       "      <td>789012</td>\n",
       "      <td>David Williams</td>\n",
       "      <td>R1234</td>\n",
       "      <td>$876</td>\n",
       "    </tr>\n",
       "    <tr>\n",
       "      <th>6</th>\n",
       "      <td>345678</td>\n",
       "      <td>Sarah Brown</td>\n",
       "      <td>C5678</td>\n",
       "      <td>$109</td>\n",
       "    </tr>\n",
       "    <tr>\n",
       "      <th>7</th>\n",
       "      <td>901234</td>\n",
       "      <td>Kevin Davis</td>\n",
       "      <td>S9012</td>\n",
       "      <td>$432</td>\n",
       "    </tr>\n",
       "    <tr>\n",
       "      <th>8</th>\n",
       "      <td>567890</td>\n",
       "      <td>Ashley Miller</td>\n",
       "      <td>D3456</td>\n",
       "      <td>$765</td>\n",
       "    </tr>\n",
       "    <tr>\n",
       "      <th>9</th>\n",
       "      <td>123456</td>\n",
       "      <td>Christopher Wilson</td>\n",
       "      <td>R7890</td>\n",
       "      <td>$098</td>\n",
       "    </tr>\n",
       "    <tr>\n",
       "      <th>10</th>\n",
       "      <td>246802</td>\n",
       "      <td>Jessica Moore</td>\n",
       "      <td>C1357</td>\n",
       "      <td>$320</td>\n",
       "    </tr>\n",
       "    <tr>\n",
       "      <th>11</th>\n",
       "      <td>135791</td>\n",
       "      <td>Matthew Taylor</td>\n",
       "      <td>S2468</td>\n",
       "      <td>$650</td>\n",
       "    </tr>\n",
       "    <tr>\n",
       "      <th>12</th>\n",
       "      <td>975318</td>\n",
       "      <td>Andrea Anderson</td>\n",
       "      <td>D0246</td>\n",
       "      <td>$980</td>\n",
       "    </tr>\n",
       "    <tr>\n",
       "      <th>13</th>\n",
       "      <td>864207</td>\n",
       "      <td>Daniel Thomas</td>\n",
       "      <td>R1357</td>\n",
       "      <td>$210</td>\n",
       "    </tr>\n",
       "    <tr>\n",
       "      <th>14</th>\n",
       "      <td>753096</td>\n",
       "      <td>Elizabeth Jackson</td>\n",
       "      <td>C2468</td>\n",
       "      <td>$540</td>\n",
       "    </tr>\n",
       "  </tbody>\n",
       "</table>\n",
       "</div>"
      ],
      "text/plain": [
       "   patient_id        patient_name diagonosis_code insurance_claim_amount\n",
       "0      789012       Alice Johnson           D1234                   $321\n",
       "1      345678           Bob Smith           R5678                   $654\n",
       "2      901234          Eva Garcia           C9012                   $987\n",
       "3      567890         Michael Lee           S3456                   $210\n",
       "4      123456     Maria Rodriguez           D7890                   $543\n",
       "5      789012      David Williams           R1234                   $876\n",
       "6      345678         Sarah Brown           C5678                   $109\n",
       "7      901234         Kevin Davis           S9012                   $432\n",
       "8      567890       Ashley Miller           D3456                   $765\n",
       "9      123456  Christopher Wilson           R7890                   $098\n",
       "10     246802       Jessica Moore           C1357                   $320\n",
       "11     135791      Matthew Taylor           S2468                   $650\n",
       "12     975318     Andrea Anderson           D0246                   $980\n",
       "13     864207       Daniel Thomas           R1357                   $210\n",
       "14     753096   Elizabeth Jackson           C2468                   $540"
      ]
     },
     "execution_count": 166,
     "metadata": {},
     "output_type": "execute_result"
    }
   ],
   "source": [
    "df"
   ]
  },
  {
   "cell_type": "markdown",
   "id": "27312e7b-e889-45c9-afa4-6f83dac3189e",
   "metadata": {},
   "source": [
    "## Augment data from Pandas Data Frame to handle class imbalance"
   ]
  },
  {
   "cell_type": "code",
   "execution_count": 40,
   "id": "c59cd836-1ec8-47b7-9646-c9ebe6ff40d7",
   "metadata": {},
   "outputs": [],
   "source": [
    "import pandas as pd\n",
    "pd.set_option('display.max_colwidth', None)  # No limit on column width\n",
    "pd.set_option('display.max_rows', None)  # No limit on the number of rows displayed\n",
    "pd.set_option('display.max_columns', None)  # No limit on the number of columns displayed\n",
    "\n",
    " "
   ]
  },
  {
   "cell_type": "code",
   "execution_count": 19,
   "id": "aab5f7b7-683a-4bbd-a611-0e789c0ed4d3",
   "metadata": {},
   "outputs": [],
   "source": [
    " df = pd.read_excel('AccidentsData.xlsx')"
   ]
  },
  {
   "cell_type": "code",
   "execution_count": 20,
   "id": "12fff6b1-0d65-4faa-9f19-69f5553406ea",
   "metadata": {},
   "outputs": [
    {
     "name": "stdout",
     "output_type": "stream",
     "text": [
      "<class 'pandas.core.frame.DataFrame'>\n",
      "RangeIndex: 425 entries, 0 to 424\n",
      "Data columns (total 11 columns):\n",
      " #   Column                    Non-Null Count  Dtype         \n",
      "---  ------                    --------------  -----         \n",
      " 0   Unnamed: 0                425 non-null    int64         \n",
      " 1   Data                      425 non-null    datetime64[ns]\n",
      " 2   Countries                 425 non-null    object        \n",
      " 3   Local                     425 non-null    object        \n",
      " 4   Industry Sector           425 non-null    object        \n",
      " 5   Accident Level            425 non-null    object        \n",
      " 6   Potential Accident Level  425 non-null    object        \n",
      " 7   Genre                     425 non-null    object        \n",
      " 8   Employee or Third Party   425 non-null    object        \n",
      " 9   Critical Risk             425 non-null    object        \n",
      " 10  Description               425 non-null    object        \n",
      "dtypes: datetime64[ns](1), int64(1), object(9)\n",
      "memory usage: 36.7+ KB\n"
     ]
    }
   ],
   "source": [
    "df.info()"
   ]
  },
  {
   "cell_type": "code",
   "execution_count": 21,
   "id": "c6ecc42f-04d7-41a5-a22a-3223341337e6",
   "metadata": {},
   "outputs": [],
   "source": [
    "# Drop the 'Unnamed: 0' column\n",
    "df.drop('Unnamed: 0', axis=1, inplace=True)\n",
    "\n",
    "# Rename the columns\n",
    "df.rename(columns={\n",
    "    'Data':'Date',\n",
    "    'Countries':'Country',\n",
    "    'Local':'Location',\n",
    "    'Industry Sector':'Industry_Sector',\n",
    "    'Accident Level':'Accident_Level',\n",
    "    'Potential Accident Level':'Potential_Accident_Level',\n",
    "    'Genre':'Gender',\n",
    "    'Employee or Third Party':'Employee_Type',\n",
    "    'Critical Risk':'Critical_Risk'\n",
    "}, inplace=True)"
   ]
  },
  {
   "cell_type": "code",
   "execution_count": 22,
   "id": "dcb79889-3860-426e-925d-f475cdf67b3a",
   "metadata": {},
   "outputs": [],
   "source": [
    "# Convert ordinal levels to numeric\n",
    "df_encoded = df.copy()\n",
    "\n",
    "ordinal_mapping = {'I': 1, 'II': 2, 'III': 3, 'IV': 4, 'V': 5, 'VI': 6}\n",
    "\n",
    "df_encoded['Accident_Level'] = df_encoded['Accident_Level'].map(ordinal_mapping)\n",
    "df_encoded['Potential_Accident_Level'] = df_encoded['Potential_Accident_Level'].map(ordinal_mapping)\n",
    " "
   ]
  },
  {
   "cell_type": "code",
   "execution_count": 29,
   "id": "2b406ee4-4c9d-44af-9ced-5c7459901880",
   "metadata": {},
   "outputs": [],
   "source": [
    "def generate_schema(model: BaseModel):\n",
    "    schema = model.schema()[\"properties\"]\n",
    "    schema_description = []\n",
    "\n",
    "    for field_name, field_info in schema.items():\n",
    "        field_type = field_info.get(\"type\", \"unknown\")\n",
    "        description = field_info.get(\"description\", \"\")\n",
    "        \n",
    "        # Add constraints like minimum, maximum values\n",
    "        constraints = []\n",
    "        if \"minimum\" in field_info:\n",
    "            constraints.append(f\"minimum: {field_info['minimum']}\")\n",
    "        if \"maximum\" in field_info:\n",
    "            constraints.append(f\"maximum: {field_info['maximum']}\")\n",
    "\n",
    "        # Combine type, description, and constraints\n",
    "        constraint_str = f\" ({', '.join(constraints)})\" if constraints else \"\"\n",
    "        schema_description.append(\n",
    "            f'\"{field_name}\": \"{field_type}{constraint_str} ({description})\"'\n",
    "        )\n",
    " \n",
    "    schema_str = \",\\n    \".join(schema_description)\n",
    "    return  schema_str\n",
    "           "
   ]
  },
  {
   "cell_type": "code",
   "execution_count": 91,
   "id": "808dd94f-d662-4bd7-ae83-fc458aeff1bf",
   "metadata": {},
   "outputs": [],
   "source": [
    "from pydantic import BaseModel, Field\n",
    "from datetime import datetime\n",
    "import json\n",
    "\n",
    "class industry_accident(BaseModel):     \n",
    "    Date: datetime= Field(..., description=\"timestamp or time/date information. valid range Range: January 2016 to July 2017\")\n",
    "    Country :str= Field(..., description=\"which country the accident occurred (anonymised). Can have values as Country_01, Country_02,  Country_03 \")\n",
    "    Location :str= Field(..., description=\"the city where the manufacturing plant is located (anonymised). can contain values from Local_01, Local_02 to Local_12\")\n",
    "    Industry_Sector :str= Field(..., description=\"which sector the plant belongs to. valid values : Mining, Metal, Others\")\n",
    "    Accident_Level:str= Field(..., description=\"from 1 to 5, it registers how severe was the accident (I means not severe but VI means very severe).\")\n",
    "    Potential_Accident_Level:str= Field(..., description=\"Depending on the Accident Level, the database also registers how severe the accident could have been (due to other factors involved in the accident)\")\n",
    "    Gender:str= Field(..., description=\"if the person is male of female.\")\n",
    "    Employee_Type:str= Field(..., description=\"if the injured person is an employee or a third party. Unique values: Third Party, Employee, Third Party (Remote)\")\n",
    "    Critical_Risk:str= Field(..., description=\"some description of the risk involved in the accident.\")\n",
    "    Description:str= Field(..., description=\"Detailed description of how the accident happened.\")\n",
    "    "
   ]
  },
  {
   "cell_type": "code",
   "execution_count": 102,
   "id": "77a65c70-339b-4d20-b55b-1dfbdfb7b8ef",
   "metadata": {},
   "outputs": [],
   "source": [
    "def data_augmentation(df, llm, targetField, targetFieldValue, sampleSize,noOfRowsToAdd):\n",
    "    # Step 2: Apply a `where` clause to filter rows\n",
    "    filtered_df = df.query(f\"{targetField} == {targetFieldValue}\")  # Example: Filter rows where `type` is 'data'\n",
    "    \n",
    "    \n",
    "    examples = [\n",
    "        {\n",
    "            \"example\": f\"\"\"Date:{row.Date}, Country={row.Country}, Location={row.Location},Industry_Sector={row.Industry_Sector}\n",
    "            ,Accident_Level={row.Accident_Level},Potential_Accident_Level={row.Potential_Accident_Level},Gender={row.Gender}\n",
    "            ,Employee_Type={row.Employee_Type}\n",
    "            ,Critical_Risk={row.Critical_Risk},Description={row.Description}\"\"\"\n",
    "        }\n",
    "        for _, row in filtered_df.sample(n=min(len(filtered_df), sampleSize)).iterrows()\n",
    "    ]\n",
    "\n",
    "    SYNTHETIC_FEW_SHOT_PREFIX=f\"\"\"You are a industry expert and are helping to generate Synthetic data. \n",
    "                                    Generate list of data in the following JSON format:                                  \n",
    "                                    {{schema}}\n",
    "                                    Output each JSON object on a new line seperated by a comma. Do not iutput keyword \"JSON\" in the output\n",
    "                                    Generate value of {targetField} as {targetFieldValue} only, \n",
    "                                    description field should be as verbose as the examples and should be of approximately the same length.\n",
    "                                    \"\"\"\n",
    "\n",
    "    SYNTHETIC_FEW_SHOT_SUFFIX=\"Ensure the output strictly adheres to this format and includes realistic and diverse values for each field.\"\n",
    "    #create the prompt template \n",
    "    prompt_template = PromptTemplate (input_variables  =[\"example\"],template =\"{example}\")\n",
    "    \n",
    "    #Configure Few Shot Prompt Template\n",
    "    prompt_template= FewShotPromptTemplate(\n",
    "        prefix= SYNTHETIC_FEW_SHOT_PREFIX,\n",
    "        examples = examples,\n",
    "        suffix= SYNTHETIC_FEW_SHOT_SUFFIX,\n",
    "        input_variables=[\"schema\"],\n",
    "        example_prompt = prompt_template\n",
    "    )\n",
    "\n",
    "    generator = SyntheticDataGenerator(template=prompt_template, llm=llm)\n",
    "    results = generator.generate(subject=\"Mining and Metal Industry Accident related data\", \n",
    "                             schema=generate_schema(industry_accident)\n",
    "                             , runs=1)\n",
    "    list_of_json_objects = json.loads(\"[\"+results[0]+\"]\")\n",
    "    data = pd.DataFrame(list_of_json_objects)\n",
    "    \n",
    "    return data\n",
    "    "
   ]
  },
  {
   "cell_type": "code",
   "execution_count": 115,
   "id": "12dc4465-c523-4f1c-8156-612775a4ec28",
   "metadata": {},
   "outputs": [],
   "source": [
    "def augment_for_class_imbalance(llm,df, targetField,sampleSize):\n",
    "    df_augmented = df.copy()\n",
    "    # Get class counts\n",
    "    class_counts = df[targetField].value_counts()\n",
    "    \n",
    "    # Find the maximum count (target for balancing)\n",
    "    max_count = class_counts.max()\n",
    "    \n",
    "    # Calculate the rows needed for each class to reach the max count\n",
    "    rows_to_add = {cls: max_count - count for cls, count in class_counts.items()}\n",
    "    for targetClass, count in rows_to_add.items():\n",
    "        if count>0:\n",
    "            counter = 0\n",
    "            \n",
    "            print(f\"Adding {count} rows to {targetClass}\") \n",
    "            while counter < count:\n",
    "                df_new= data_augmentation(df, llm, targetField, targetClass, sampleSize, count)\n",
    "                df_augmented = pd.concat([df_augmented, df_new], axis=0, ignore_index=True)\n",
    "                counter = counter + df_new.shape[0]\n",
    "                print(f\"Added { df_new.shape[0]} rows to {targetClass}\") \n",
    "             \n",
    "    \n",
    "    return df_augmented\n",
    "\n",
    " \n",
    " "
   ]
  },
  {
   "cell_type": "code",
   "execution_count": 116,
   "id": "27da9127-8a44-4601-a4e5-bd4eddc11d58",
   "metadata": {},
   "outputs": [
    {
     "name": "stdout",
     "output_type": "stream",
     "text": [
      "Adding 37 rows to 3\n",
      "Added 8 rows to 3\n",
      "Added 8 rows to 3\n",
      "Added 6 rows to 3\n",
      "Added 6 rows to 3\n",
      "Added 8 rows to 3\n",
      "Added 7 rows to 3\n",
      "Adding 48 rows to 2\n",
      "Added 8 rows to 2\n",
      "Added 8 rows to 2\n",
      "Added 9 rows to 2\n",
      "Added 7 rows to 2\n",
      "Added 7 rows to 2\n",
      "Added 9 rows to 2\n",
      "Adding 94 rows to 1\n",
      "Added 6 rows to 1\n",
      "Added 6 rows to 1\n",
      "Added 6 rows to 1\n",
      "Added 6 rows to 1\n",
      "Added 7 rows to 1\n",
      "Added 8 rows to 1\n",
      "Added 6 rows to 1\n",
      "Added 7 rows to 1\n",
      "Added 9 rows to 1\n"
     ]
    },
    {
     "name": "stderr",
     "output_type": "stream",
     "text": [
      "Retrying langchain_google_genai.chat_models._chat_with_retry.<locals>._chat_with_retry in 2.0 seconds as it raised ResourceExhausted: 429 Resource has been exhausted (e.g. check quota)..\n"
     ]
    },
    {
     "name": "stdout",
     "output_type": "stream",
     "text": [
      "Added 5 rows to 1\n"
     ]
    },
    {
     "name": "stderr",
     "output_type": "stream",
     "text": [
      "Retrying langchain_google_genai.chat_models._chat_with_retry.<locals>._chat_with_retry in 2.0 seconds as it raised ResourceExhausted: 429 Resource has been exhausted (e.g. check quota)..\n"
     ]
    },
    {
     "ename": "ResourceExhausted",
     "evalue": "429 Resource has been exhausted (e.g. check quota).",
     "output_type": "error",
     "traceback": [
      "\u001b[1;31m---------------------------------------------------------------------------\u001b[0m",
      "\u001b[1;31mResourceExhausted\u001b[0m                         Traceback (most recent call last)",
      "Cell \u001b[1;32mIn[116], line 1\u001b[0m\n\u001b[1;32m----> 1\u001b[0m df_augmented\u001b[38;5;241m=\u001b[39m augment_for_class_imbalance(llm,df_encoded, \u001b[38;5;124m\"\u001b[39m\u001b[38;5;124mPotential_Accident_Level\u001b[39m\u001b[38;5;124m\"\u001b[39m, \u001b[38;5;241m5\u001b[39m)\n",
      "Cell \u001b[1;32mIn[115], line 17\u001b[0m, in \u001b[0;36maugment_for_class_imbalance\u001b[1;34m(llm, df, targetField, sampleSize)\u001b[0m\n\u001b[0;32m     15\u001b[0m \u001b[38;5;28mprint\u001b[39m(\u001b[38;5;124mf\u001b[39m\u001b[38;5;124m\"\u001b[39m\u001b[38;5;124mAdding \u001b[39m\u001b[38;5;132;01m{\u001b[39;00mcount\u001b[38;5;132;01m}\u001b[39;00m\u001b[38;5;124m rows to \u001b[39m\u001b[38;5;132;01m{\u001b[39;00mtargetClass\u001b[38;5;132;01m}\u001b[39;00m\u001b[38;5;124m\"\u001b[39m) \n\u001b[0;32m     16\u001b[0m \u001b[38;5;28;01mwhile\u001b[39;00m counter \u001b[38;5;241m<\u001b[39m count:\n\u001b[1;32m---> 17\u001b[0m     df_new\u001b[38;5;241m=\u001b[39m data_augmentation(df, llm, targetField, targetClass, sampleSize, count)\n\u001b[0;32m     18\u001b[0m     df_augmented \u001b[38;5;241m=\u001b[39m pd\u001b[38;5;241m.\u001b[39mconcat([df_augmented, df_new], axis\u001b[38;5;241m=\u001b[39m\u001b[38;5;241m0\u001b[39m, ignore_index\u001b[38;5;241m=\u001b[39m\u001b[38;5;28;01mTrue\u001b[39;00m)\n\u001b[0;32m     19\u001b[0m     counter \u001b[38;5;241m=\u001b[39m counter \u001b[38;5;241m+\u001b[39m df_new\u001b[38;5;241m.\u001b[39mshape[\u001b[38;5;241m0\u001b[39m]\n",
      "Cell \u001b[1;32mIn[102], line 38\u001b[0m, in \u001b[0;36mdata_augmentation\u001b[1;34m(df, llm, targetField, targetFieldValue, sampleSize, noOfRowsToAdd)\u001b[0m\n\u001b[0;32m     29\u001b[0m prompt_template\u001b[38;5;241m=\u001b[39m FewShotPromptTemplate(\n\u001b[0;32m     30\u001b[0m     prefix\u001b[38;5;241m=\u001b[39m SYNTHETIC_FEW_SHOT_PREFIX,\n\u001b[0;32m     31\u001b[0m     examples \u001b[38;5;241m=\u001b[39m examples,\n\u001b[1;32m   (...)\u001b[0m\n\u001b[0;32m     34\u001b[0m     example_prompt \u001b[38;5;241m=\u001b[39m prompt_template\n\u001b[0;32m     35\u001b[0m )\n\u001b[0;32m     37\u001b[0m generator \u001b[38;5;241m=\u001b[39m SyntheticDataGenerator(template\u001b[38;5;241m=\u001b[39mprompt_template, llm\u001b[38;5;241m=\u001b[39mllm)\n\u001b[1;32m---> 38\u001b[0m results \u001b[38;5;241m=\u001b[39m generator\u001b[38;5;241m.\u001b[39mgenerate(subject\u001b[38;5;241m=\u001b[39m\u001b[38;5;124m\"\u001b[39m\u001b[38;5;124mMining and Metal Industry Accident related data\u001b[39m\u001b[38;5;124m\"\u001b[39m, \n\u001b[0;32m     39\u001b[0m                          schema\u001b[38;5;241m=\u001b[39mgenerate_schema(industry_accident)\n\u001b[0;32m     40\u001b[0m                          , runs\u001b[38;5;241m=\u001b[39m\u001b[38;5;241m1\u001b[39m)\n\u001b[0;32m     41\u001b[0m list_of_json_objects \u001b[38;5;241m=\u001b[39m json\u001b[38;5;241m.\u001b[39mloads(\u001b[38;5;124m\"\u001b[39m\u001b[38;5;124m[\u001b[39m\u001b[38;5;124m\"\u001b[39m\u001b[38;5;241m+\u001b[39mresults[\u001b[38;5;241m0\u001b[39m]\u001b[38;5;241m+\u001b[39m\u001b[38;5;124m\"\u001b[39m\u001b[38;5;124m]\u001b[39m\u001b[38;5;124m\"\u001b[39m)\n\u001b[0;32m     42\u001b[0m data \u001b[38;5;241m=\u001b[39m pd\u001b[38;5;241m.\u001b[39mDataFrame(list_of_json_objects)\n",
      "File \u001b[1;32mC:\\Anaconda\\anaconda3\\envs\\genailearning\\Lib\\site-packages\\langchain_experimental\\tabular_synthetic_data\\base.py:101\u001b[0m, in \u001b[0;36mSyntheticDataGenerator.generate\u001b[1;34m(self, subject, runs, *args, **kwargs)\u001b[0m\n\u001b[0;32m     96\u001b[0m     \u001b[38;5;28;01mraise\u001b[39;00m \u001b[38;5;167;01mValueError\u001b[39;00m(\n\u001b[0;32m     97\u001b[0m         \u001b[38;5;124m\"\u001b[39m\u001b[38;5;124mllm_chain is none, either set either llm_chain or llm at generator \u001b[39m\u001b[38;5;124m\"\u001b[39m\n\u001b[0;32m     98\u001b[0m         \u001b[38;5;124m\"\u001b[39m\u001b[38;5;124mconstruction\u001b[39m\u001b[38;5;124m\"\u001b[39m\n\u001b[0;32m     99\u001b[0m     )\n\u001b[0;32m    100\u001b[0m \u001b[38;5;28;01mfor\u001b[39;00m _ \u001b[38;5;129;01min\u001b[39;00m \u001b[38;5;28mrange\u001b[39m(runs):\n\u001b[1;32m--> 101\u001b[0m     result \u001b[38;5;241m=\u001b[39m \u001b[38;5;28mself\u001b[39m\u001b[38;5;241m.\u001b[39mllm_chain\u001b[38;5;241m.\u001b[39mrun(subject\u001b[38;5;241m=\u001b[39msubject, \u001b[38;5;241m*\u001b[39margs, \u001b[38;5;241m*\u001b[39m\u001b[38;5;241m*\u001b[39mkwargs)\n\u001b[0;32m    102\u001b[0m     \u001b[38;5;28mself\u001b[39m\u001b[38;5;241m.\u001b[39mresults\u001b[38;5;241m.\u001b[39mappend(result)\n\u001b[0;32m    103\u001b[0m     \u001b[38;5;28mself\u001b[39m\u001b[38;5;241m.\u001b[39m_update_examples(result)\n",
      "File \u001b[1;32mC:\\Anaconda\\anaconda3\\envs\\genailearning\\Lib\\site-packages\\langchain_core\\_api\\deprecation.py:182\u001b[0m, in \u001b[0;36mdeprecated.<locals>.deprecate.<locals>.warning_emitting_wrapper\u001b[1;34m(*args, **kwargs)\u001b[0m\n\u001b[0;32m    180\u001b[0m     warned \u001b[38;5;241m=\u001b[39m \u001b[38;5;28;01mTrue\u001b[39;00m\n\u001b[0;32m    181\u001b[0m     emit_warning()\n\u001b[1;32m--> 182\u001b[0m \u001b[38;5;28;01mreturn\u001b[39;00m wrapped(\u001b[38;5;241m*\u001b[39margs, \u001b[38;5;241m*\u001b[39m\u001b[38;5;241m*\u001b[39mkwargs)\n",
      "File \u001b[1;32mC:\\Anaconda\\anaconda3\\envs\\genailearning\\Lib\\site-packages\\langchain\\chains\\base.py:611\u001b[0m, in \u001b[0;36mChain.run\u001b[1;34m(self, callbacks, tags, metadata, *args, **kwargs)\u001b[0m\n\u001b[0;32m    606\u001b[0m     \u001b[38;5;28;01mreturn\u001b[39;00m \u001b[38;5;28mself\u001b[39m(args[\u001b[38;5;241m0\u001b[39m], callbacks\u001b[38;5;241m=\u001b[39mcallbacks, tags\u001b[38;5;241m=\u001b[39mtags, metadata\u001b[38;5;241m=\u001b[39mmetadata)[\n\u001b[0;32m    607\u001b[0m         _output_key\n\u001b[0;32m    608\u001b[0m     ]\n\u001b[0;32m    610\u001b[0m \u001b[38;5;28;01mif\u001b[39;00m kwargs \u001b[38;5;129;01mand\u001b[39;00m \u001b[38;5;129;01mnot\u001b[39;00m args:\n\u001b[1;32m--> 611\u001b[0m     \u001b[38;5;28;01mreturn\u001b[39;00m \u001b[38;5;28mself\u001b[39m(kwargs, callbacks\u001b[38;5;241m=\u001b[39mcallbacks, tags\u001b[38;5;241m=\u001b[39mtags, metadata\u001b[38;5;241m=\u001b[39mmetadata)[\n\u001b[0;32m    612\u001b[0m         _output_key\n\u001b[0;32m    613\u001b[0m     ]\n\u001b[0;32m    615\u001b[0m \u001b[38;5;28;01mif\u001b[39;00m \u001b[38;5;129;01mnot\u001b[39;00m kwargs \u001b[38;5;129;01mand\u001b[39;00m \u001b[38;5;129;01mnot\u001b[39;00m args:\n\u001b[0;32m    616\u001b[0m     \u001b[38;5;28;01mraise\u001b[39;00m \u001b[38;5;167;01mValueError\u001b[39;00m(\n\u001b[0;32m    617\u001b[0m         \u001b[38;5;124m\"\u001b[39m\u001b[38;5;124m`run` supported with either positional arguments or keyword arguments,\u001b[39m\u001b[38;5;124m\"\u001b[39m\n\u001b[0;32m    618\u001b[0m         \u001b[38;5;124m\"\u001b[39m\u001b[38;5;124m but none were provided.\u001b[39m\u001b[38;5;124m\"\u001b[39m\n\u001b[0;32m    619\u001b[0m     )\n",
      "File \u001b[1;32mC:\\Anaconda\\anaconda3\\envs\\genailearning\\Lib\\site-packages\\langchain_core\\_api\\deprecation.py:182\u001b[0m, in \u001b[0;36mdeprecated.<locals>.deprecate.<locals>.warning_emitting_wrapper\u001b[1;34m(*args, **kwargs)\u001b[0m\n\u001b[0;32m    180\u001b[0m     warned \u001b[38;5;241m=\u001b[39m \u001b[38;5;28;01mTrue\u001b[39;00m\n\u001b[0;32m    181\u001b[0m     emit_warning()\n\u001b[1;32m--> 182\u001b[0m \u001b[38;5;28;01mreturn\u001b[39;00m wrapped(\u001b[38;5;241m*\u001b[39margs, \u001b[38;5;241m*\u001b[39m\u001b[38;5;241m*\u001b[39mkwargs)\n",
      "File \u001b[1;32mC:\\Anaconda\\anaconda3\\envs\\genailearning\\Lib\\site-packages\\langchain\\chains\\base.py:389\u001b[0m, in \u001b[0;36mChain.__call__\u001b[1;34m(self, inputs, return_only_outputs, callbacks, tags, metadata, run_name, include_run_info)\u001b[0m\n\u001b[0;32m    357\u001b[0m \u001b[38;5;250m\u001b[39m\u001b[38;5;124;03m\"\"\"Execute the chain.\u001b[39;00m\n\u001b[0;32m    358\u001b[0m \n\u001b[0;32m    359\u001b[0m \u001b[38;5;124;03mArgs:\u001b[39;00m\n\u001b[1;32m   (...)\u001b[0m\n\u001b[0;32m    380\u001b[0m \u001b[38;5;124;03m        `Chain.output_keys`.\u001b[39;00m\n\u001b[0;32m    381\u001b[0m \u001b[38;5;124;03m\"\"\"\u001b[39;00m\n\u001b[0;32m    382\u001b[0m config \u001b[38;5;241m=\u001b[39m {\n\u001b[0;32m    383\u001b[0m     \u001b[38;5;124m\"\u001b[39m\u001b[38;5;124mcallbacks\u001b[39m\u001b[38;5;124m\"\u001b[39m: callbacks,\n\u001b[0;32m    384\u001b[0m     \u001b[38;5;124m\"\u001b[39m\u001b[38;5;124mtags\u001b[39m\u001b[38;5;124m\"\u001b[39m: tags,\n\u001b[0;32m    385\u001b[0m     \u001b[38;5;124m\"\u001b[39m\u001b[38;5;124mmetadata\u001b[39m\u001b[38;5;124m\"\u001b[39m: metadata,\n\u001b[0;32m    386\u001b[0m     \u001b[38;5;124m\"\u001b[39m\u001b[38;5;124mrun_name\u001b[39m\u001b[38;5;124m\"\u001b[39m: run_name,\n\u001b[0;32m    387\u001b[0m }\n\u001b[1;32m--> 389\u001b[0m \u001b[38;5;28;01mreturn\u001b[39;00m \u001b[38;5;28mself\u001b[39m\u001b[38;5;241m.\u001b[39minvoke(\n\u001b[0;32m    390\u001b[0m     inputs,\n\u001b[0;32m    391\u001b[0m     cast(RunnableConfig, {k: v \u001b[38;5;28;01mfor\u001b[39;00m k, v \u001b[38;5;129;01min\u001b[39;00m config\u001b[38;5;241m.\u001b[39mitems() \u001b[38;5;28;01mif\u001b[39;00m v \u001b[38;5;129;01mis\u001b[39;00m \u001b[38;5;129;01mnot\u001b[39;00m \u001b[38;5;28;01mNone\u001b[39;00m}),\n\u001b[0;32m    392\u001b[0m     return_only_outputs\u001b[38;5;241m=\u001b[39mreturn_only_outputs,\n\u001b[0;32m    393\u001b[0m     include_run_info\u001b[38;5;241m=\u001b[39minclude_run_info,\n\u001b[0;32m    394\u001b[0m )\n",
      "File \u001b[1;32mC:\\Anaconda\\anaconda3\\envs\\genailearning\\Lib\\site-packages\\langchain\\chains\\base.py:170\u001b[0m, in \u001b[0;36mChain.invoke\u001b[1;34m(self, input, config, **kwargs)\u001b[0m\n\u001b[0;32m    168\u001b[0m \u001b[38;5;28;01mexcept\u001b[39;00m \u001b[38;5;167;01mBaseException\u001b[39;00m \u001b[38;5;28;01mas\u001b[39;00m e:\n\u001b[0;32m    169\u001b[0m     run_manager\u001b[38;5;241m.\u001b[39mon_chain_error(e)\n\u001b[1;32m--> 170\u001b[0m     \u001b[38;5;28;01mraise\u001b[39;00m e\n\u001b[0;32m    171\u001b[0m run_manager\u001b[38;5;241m.\u001b[39mon_chain_end(outputs)\n\u001b[0;32m    173\u001b[0m \u001b[38;5;28;01mif\u001b[39;00m include_run_info:\n",
      "File \u001b[1;32mC:\\Anaconda\\anaconda3\\envs\\genailearning\\Lib\\site-packages\\langchain\\chains\\base.py:160\u001b[0m, in \u001b[0;36mChain.invoke\u001b[1;34m(self, input, config, **kwargs)\u001b[0m\n\u001b[0;32m    157\u001b[0m \u001b[38;5;28;01mtry\u001b[39;00m:\n\u001b[0;32m    158\u001b[0m     \u001b[38;5;28mself\u001b[39m\u001b[38;5;241m.\u001b[39m_validate_inputs(inputs)\n\u001b[0;32m    159\u001b[0m     outputs \u001b[38;5;241m=\u001b[39m (\n\u001b[1;32m--> 160\u001b[0m         \u001b[38;5;28mself\u001b[39m\u001b[38;5;241m.\u001b[39m_call(inputs, run_manager\u001b[38;5;241m=\u001b[39mrun_manager)\n\u001b[0;32m    161\u001b[0m         \u001b[38;5;28;01mif\u001b[39;00m new_arg_supported\n\u001b[0;32m    162\u001b[0m         \u001b[38;5;28;01melse\u001b[39;00m \u001b[38;5;28mself\u001b[39m\u001b[38;5;241m.\u001b[39m_call(inputs)\n\u001b[0;32m    163\u001b[0m     )\n\u001b[0;32m    165\u001b[0m     final_outputs: Dict[\u001b[38;5;28mstr\u001b[39m, Any] \u001b[38;5;241m=\u001b[39m \u001b[38;5;28mself\u001b[39m\u001b[38;5;241m.\u001b[39mprep_outputs(\n\u001b[0;32m    166\u001b[0m         inputs, outputs, return_only_outputs\n\u001b[0;32m    167\u001b[0m     )\n\u001b[0;32m    168\u001b[0m \u001b[38;5;28;01mexcept\u001b[39;00m \u001b[38;5;167;01mBaseException\u001b[39;00m \u001b[38;5;28;01mas\u001b[39;00m e:\n",
      "File \u001b[1;32mC:\\Anaconda\\anaconda3\\envs\\genailearning\\Lib\\site-packages\\langchain\\chains\\llm.py:126\u001b[0m, in \u001b[0;36mLLMChain._call\u001b[1;34m(self, inputs, run_manager)\u001b[0m\n\u001b[0;32m    121\u001b[0m \u001b[38;5;28;01mdef\u001b[39;00m \u001b[38;5;21m_call\u001b[39m(\n\u001b[0;32m    122\u001b[0m     \u001b[38;5;28mself\u001b[39m,\n\u001b[0;32m    123\u001b[0m     inputs: Dict[\u001b[38;5;28mstr\u001b[39m, Any],\n\u001b[0;32m    124\u001b[0m     run_manager: Optional[CallbackManagerForChainRun] \u001b[38;5;241m=\u001b[39m \u001b[38;5;28;01mNone\u001b[39;00m,\n\u001b[0;32m    125\u001b[0m ) \u001b[38;5;241m-\u001b[39m\u001b[38;5;241m>\u001b[39m Dict[\u001b[38;5;28mstr\u001b[39m, \u001b[38;5;28mstr\u001b[39m]:\n\u001b[1;32m--> 126\u001b[0m     response \u001b[38;5;241m=\u001b[39m \u001b[38;5;28mself\u001b[39m\u001b[38;5;241m.\u001b[39mgenerate([inputs], run_manager\u001b[38;5;241m=\u001b[39mrun_manager)\n\u001b[0;32m    127\u001b[0m     \u001b[38;5;28;01mreturn\u001b[39;00m \u001b[38;5;28mself\u001b[39m\u001b[38;5;241m.\u001b[39mcreate_outputs(response)[\u001b[38;5;241m0\u001b[39m]\n",
      "File \u001b[1;32mC:\\Anaconda\\anaconda3\\envs\\genailearning\\Lib\\site-packages\\langchain\\chains\\llm.py:138\u001b[0m, in \u001b[0;36mLLMChain.generate\u001b[1;34m(self, input_list, run_manager)\u001b[0m\n\u001b[0;32m    136\u001b[0m callbacks \u001b[38;5;241m=\u001b[39m run_manager\u001b[38;5;241m.\u001b[39mget_child() \u001b[38;5;28;01mif\u001b[39;00m run_manager \u001b[38;5;28;01melse\u001b[39;00m \u001b[38;5;28;01mNone\u001b[39;00m\n\u001b[0;32m    137\u001b[0m \u001b[38;5;28;01mif\u001b[39;00m \u001b[38;5;28misinstance\u001b[39m(\u001b[38;5;28mself\u001b[39m\u001b[38;5;241m.\u001b[39mllm, BaseLanguageModel):\n\u001b[1;32m--> 138\u001b[0m     \u001b[38;5;28;01mreturn\u001b[39;00m \u001b[38;5;28mself\u001b[39m\u001b[38;5;241m.\u001b[39mllm\u001b[38;5;241m.\u001b[39mgenerate_prompt(\n\u001b[0;32m    139\u001b[0m         prompts,\n\u001b[0;32m    140\u001b[0m         stop,\n\u001b[0;32m    141\u001b[0m         callbacks\u001b[38;5;241m=\u001b[39mcallbacks,\n\u001b[0;32m    142\u001b[0m         \u001b[38;5;241m*\u001b[39m\u001b[38;5;241m*\u001b[39m\u001b[38;5;28mself\u001b[39m\u001b[38;5;241m.\u001b[39mllm_kwargs,\n\u001b[0;32m    143\u001b[0m     )\n\u001b[0;32m    144\u001b[0m \u001b[38;5;28;01melse\u001b[39;00m:\n\u001b[0;32m    145\u001b[0m     results \u001b[38;5;241m=\u001b[39m \u001b[38;5;28mself\u001b[39m\u001b[38;5;241m.\u001b[39mllm\u001b[38;5;241m.\u001b[39mbind(stop\u001b[38;5;241m=\u001b[39mstop, \u001b[38;5;241m*\u001b[39m\u001b[38;5;241m*\u001b[39m\u001b[38;5;28mself\u001b[39m\u001b[38;5;241m.\u001b[39mllm_kwargs)\u001b[38;5;241m.\u001b[39mbatch(\n\u001b[0;32m    146\u001b[0m         cast(List, prompts), {\u001b[38;5;124m\"\u001b[39m\u001b[38;5;124mcallbacks\u001b[39m\u001b[38;5;124m\"\u001b[39m: callbacks}\n\u001b[0;32m    147\u001b[0m     )\n",
      "File \u001b[1;32mC:\\Anaconda\\anaconda3\\envs\\genailearning\\Lib\\site-packages\\langchain_core\\language_models\\chat_models.py:786\u001b[0m, in \u001b[0;36mBaseChatModel.generate_prompt\u001b[1;34m(self, prompts, stop, callbacks, **kwargs)\u001b[0m\n\u001b[0;32m    778\u001b[0m \u001b[38;5;28;01mdef\u001b[39;00m \u001b[38;5;21mgenerate_prompt\u001b[39m(\n\u001b[0;32m    779\u001b[0m     \u001b[38;5;28mself\u001b[39m,\n\u001b[0;32m    780\u001b[0m     prompts: \u001b[38;5;28mlist\u001b[39m[PromptValue],\n\u001b[1;32m   (...)\u001b[0m\n\u001b[0;32m    783\u001b[0m     \u001b[38;5;241m*\u001b[39m\u001b[38;5;241m*\u001b[39mkwargs: Any,\n\u001b[0;32m    784\u001b[0m ) \u001b[38;5;241m-\u001b[39m\u001b[38;5;241m>\u001b[39m LLMResult:\n\u001b[0;32m    785\u001b[0m     prompt_messages \u001b[38;5;241m=\u001b[39m [p\u001b[38;5;241m.\u001b[39mto_messages() \u001b[38;5;28;01mfor\u001b[39;00m p \u001b[38;5;129;01min\u001b[39;00m prompts]\n\u001b[1;32m--> 786\u001b[0m     \u001b[38;5;28;01mreturn\u001b[39;00m \u001b[38;5;28mself\u001b[39m\u001b[38;5;241m.\u001b[39mgenerate(prompt_messages, stop\u001b[38;5;241m=\u001b[39mstop, callbacks\u001b[38;5;241m=\u001b[39mcallbacks, \u001b[38;5;241m*\u001b[39m\u001b[38;5;241m*\u001b[39mkwargs)\n",
      "File \u001b[1;32mC:\\Anaconda\\anaconda3\\envs\\genailearning\\Lib\\site-packages\\langchain_core\\language_models\\chat_models.py:643\u001b[0m, in \u001b[0;36mBaseChatModel.generate\u001b[1;34m(self, messages, stop, callbacks, tags, metadata, run_name, run_id, **kwargs)\u001b[0m\n\u001b[0;32m    641\u001b[0m         \u001b[38;5;28;01mif\u001b[39;00m run_managers:\n\u001b[0;32m    642\u001b[0m             run_managers[i]\u001b[38;5;241m.\u001b[39mon_llm_error(e, response\u001b[38;5;241m=\u001b[39mLLMResult(generations\u001b[38;5;241m=\u001b[39m[]))\n\u001b[1;32m--> 643\u001b[0m         \u001b[38;5;28;01mraise\u001b[39;00m e\n\u001b[0;32m    644\u001b[0m flattened_outputs \u001b[38;5;241m=\u001b[39m [\n\u001b[0;32m    645\u001b[0m     LLMResult(generations\u001b[38;5;241m=\u001b[39m[res\u001b[38;5;241m.\u001b[39mgenerations], llm_output\u001b[38;5;241m=\u001b[39mres\u001b[38;5;241m.\u001b[39mllm_output)  \u001b[38;5;66;03m# type: ignore[list-item]\u001b[39;00m\n\u001b[0;32m    646\u001b[0m     \u001b[38;5;28;01mfor\u001b[39;00m res \u001b[38;5;129;01min\u001b[39;00m results\n\u001b[0;32m    647\u001b[0m ]\n\u001b[0;32m    648\u001b[0m llm_output \u001b[38;5;241m=\u001b[39m \u001b[38;5;28mself\u001b[39m\u001b[38;5;241m.\u001b[39m_combine_llm_outputs([res\u001b[38;5;241m.\u001b[39mllm_output \u001b[38;5;28;01mfor\u001b[39;00m res \u001b[38;5;129;01min\u001b[39;00m results])\n",
      "File \u001b[1;32mC:\\Anaconda\\anaconda3\\envs\\genailearning\\Lib\\site-packages\\langchain_core\\language_models\\chat_models.py:633\u001b[0m, in \u001b[0;36mBaseChatModel.generate\u001b[1;34m(self, messages, stop, callbacks, tags, metadata, run_name, run_id, **kwargs)\u001b[0m\n\u001b[0;32m    630\u001b[0m \u001b[38;5;28;01mfor\u001b[39;00m i, m \u001b[38;5;129;01min\u001b[39;00m \u001b[38;5;28menumerate\u001b[39m(messages):\n\u001b[0;32m    631\u001b[0m     \u001b[38;5;28;01mtry\u001b[39;00m:\n\u001b[0;32m    632\u001b[0m         results\u001b[38;5;241m.\u001b[39mappend(\n\u001b[1;32m--> 633\u001b[0m             \u001b[38;5;28mself\u001b[39m\u001b[38;5;241m.\u001b[39m_generate_with_cache(\n\u001b[0;32m    634\u001b[0m                 m,\n\u001b[0;32m    635\u001b[0m                 stop\u001b[38;5;241m=\u001b[39mstop,\n\u001b[0;32m    636\u001b[0m                 run_manager\u001b[38;5;241m=\u001b[39mrun_managers[i] \u001b[38;5;28;01mif\u001b[39;00m run_managers \u001b[38;5;28;01melse\u001b[39;00m \u001b[38;5;28;01mNone\u001b[39;00m,\n\u001b[0;32m    637\u001b[0m                 \u001b[38;5;241m*\u001b[39m\u001b[38;5;241m*\u001b[39mkwargs,\n\u001b[0;32m    638\u001b[0m             )\n\u001b[0;32m    639\u001b[0m         )\n\u001b[0;32m    640\u001b[0m     \u001b[38;5;28;01mexcept\u001b[39;00m \u001b[38;5;167;01mBaseException\u001b[39;00m \u001b[38;5;28;01mas\u001b[39;00m e:\n\u001b[0;32m    641\u001b[0m         \u001b[38;5;28;01mif\u001b[39;00m run_managers:\n",
      "File \u001b[1;32mC:\\Anaconda\\anaconda3\\envs\\genailearning\\Lib\\site-packages\\langchain_core\\language_models\\chat_models.py:851\u001b[0m, in \u001b[0;36mBaseChatModel._generate_with_cache\u001b[1;34m(self, messages, stop, run_manager, **kwargs)\u001b[0m\n\u001b[0;32m    849\u001b[0m \u001b[38;5;28;01melse\u001b[39;00m:\n\u001b[0;32m    850\u001b[0m     \u001b[38;5;28;01mif\u001b[39;00m inspect\u001b[38;5;241m.\u001b[39msignature(\u001b[38;5;28mself\u001b[39m\u001b[38;5;241m.\u001b[39m_generate)\u001b[38;5;241m.\u001b[39mparameters\u001b[38;5;241m.\u001b[39mget(\u001b[38;5;124m\"\u001b[39m\u001b[38;5;124mrun_manager\u001b[39m\u001b[38;5;124m\"\u001b[39m):\n\u001b[1;32m--> 851\u001b[0m         result \u001b[38;5;241m=\u001b[39m \u001b[38;5;28mself\u001b[39m\u001b[38;5;241m.\u001b[39m_generate(\n\u001b[0;32m    852\u001b[0m             messages, stop\u001b[38;5;241m=\u001b[39mstop, run_manager\u001b[38;5;241m=\u001b[39mrun_manager, \u001b[38;5;241m*\u001b[39m\u001b[38;5;241m*\u001b[39mkwargs\n\u001b[0;32m    853\u001b[0m         )\n\u001b[0;32m    854\u001b[0m     \u001b[38;5;28;01melse\u001b[39;00m:\n\u001b[0;32m    855\u001b[0m         result \u001b[38;5;241m=\u001b[39m \u001b[38;5;28mself\u001b[39m\u001b[38;5;241m.\u001b[39m_generate(messages, stop\u001b[38;5;241m=\u001b[39mstop, \u001b[38;5;241m*\u001b[39m\u001b[38;5;241m*\u001b[39mkwargs)\n",
      "File \u001b[1;32mC:\\Anaconda\\anaconda3\\envs\\genailearning\\Lib\\site-packages\\langchain_google_genai\\chat_models.py:946\u001b[0m, in \u001b[0;36mChatGoogleGenerativeAI._generate\u001b[1;34m(self, messages, stop, run_manager, tools, functions, safety_settings, tool_config, generation_config, cached_content, tool_choice, **kwargs)\u001b[0m\n\u001b[0;32m    920\u001b[0m \u001b[38;5;28;01mdef\u001b[39;00m \u001b[38;5;21m_generate\u001b[39m(\n\u001b[0;32m    921\u001b[0m     \u001b[38;5;28mself\u001b[39m,\n\u001b[0;32m    922\u001b[0m     messages: List[BaseMessage],\n\u001b[1;32m   (...)\u001b[0m\n\u001b[0;32m    933\u001b[0m     \u001b[38;5;241m*\u001b[39m\u001b[38;5;241m*\u001b[39mkwargs: Any,\n\u001b[0;32m    934\u001b[0m ) \u001b[38;5;241m-\u001b[39m\u001b[38;5;241m>\u001b[39m ChatResult:\n\u001b[0;32m    935\u001b[0m     request \u001b[38;5;241m=\u001b[39m \u001b[38;5;28mself\u001b[39m\u001b[38;5;241m.\u001b[39m_prepare_request(\n\u001b[0;32m    936\u001b[0m         messages,\n\u001b[0;32m    937\u001b[0m         stop\u001b[38;5;241m=\u001b[39mstop,\n\u001b[1;32m   (...)\u001b[0m\n\u001b[0;32m    944\u001b[0m         tool_choice\u001b[38;5;241m=\u001b[39mtool_choice,\n\u001b[0;32m    945\u001b[0m     )\n\u001b[1;32m--> 946\u001b[0m     response: GenerateContentResponse \u001b[38;5;241m=\u001b[39m _chat_with_retry(\n\u001b[0;32m    947\u001b[0m         request\u001b[38;5;241m=\u001b[39mrequest,\n\u001b[0;32m    948\u001b[0m         \u001b[38;5;241m*\u001b[39m\u001b[38;5;241m*\u001b[39mkwargs,\n\u001b[0;32m    949\u001b[0m         generation_method\u001b[38;5;241m=\u001b[39m\u001b[38;5;28mself\u001b[39m\u001b[38;5;241m.\u001b[39mclient\u001b[38;5;241m.\u001b[39mgenerate_content,\n\u001b[0;32m    950\u001b[0m         metadata\u001b[38;5;241m=\u001b[39m\u001b[38;5;28mself\u001b[39m\u001b[38;5;241m.\u001b[39mdefault_metadata,\n\u001b[0;32m    951\u001b[0m     )\n\u001b[0;32m    952\u001b[0m     \u001b[38;5;28;01mreturn\u001b[39;00m _response_to_result(response)\n",
      "File \u001b[1;32mC:\\Anaconda\\anaconda3\\envs\\genailearning\\Lib\\site-packages\\langchain_google_genai\\chat_models.py:196\u001b[0m, in \u001b[0;36m_chat_with_retry\u001b[1;34m(generation_method, **kwargs)\u001b[0m\n\u001b[0;32m    193\u001b[0m     \u001b[38;5;28;01mexcept\u001b[39;00m \u001b[38;5;167;01mException\u001b[39;00m \u001b[38;5;28;01mas\u001b[39;00m e:\n\u001b[0;32m    194\u001b[0m         \u001b[38;5;28;01mraise\u001b[39;00m e\n\u001b[1;32m--> 196\u001b[0m \u001b[38;5;28;01mreturn\u001b[39;00m _chat_with_retry(\u001b[38;5;241m*\u001b[39m\u001b[38;5;241m*\u001b[39mkwargs)\n",
      "File \u001b[1;32mC:\\Anaconda\\anaconda3\\envs\\genailearning\\Lib\\site-packages\\tenacity\\__init__.py:336\u001b[0m, in \u001b[0;36mBaseRetrying.wraps.<locals>.wrapped_f\u001b[1;34m(*args, **kw)\u001b[0m\n\u001b[0;32m    334\u001b[0m copy \u001b[38;5;241m=\u001b[39m \u001b[38;5;28mself\u001b[39m\u001b[38;5;241m.\u001b[39mcopy()\n\u001b[0;32m    335\u001b[0m wrapped_f\u001b[38;5;241m.\u001b[39mstatistics \u001b[38;5;241m=\u001b[39m copy\u001b[38;5;241m.\u001b[39mstatistics  \u001b[38;5;66;03m# type: ignore[attr-defined]\u001b[39;00m\n\u001b[1;32m--> 336\u001b[0m \u001b[38;5;28;01mreturn\u001b[39;00m copy(f, \u001b[38;5;241m*\u001b[39margs, \u001b[38;5;241m*\u001b[39m\u001b[38;5;241m*\u001b[39mkw)\n",
      "File \u001b[1;32mC:\\Anaconda\\anaconda3\\envs\\genailearning\\Lib\\site-packages\\tenacity\\__init__.py:475\u001b[0m, in \u001b[0;36mRetrying.__call__\u001b[1;34m(self, fn, *args, **kwargs)\u001b[0m\n\u001b[0;32m    473\u001b[0m retry_state \u001b[38;5;241m=\u001b[39m RetryCallState(retry_object\u001b[38;5;241m=\u001b[39m\u001b[38;5;28mself\u001b[39m, fn\u001b[38;5;241m=\u001b[39mfn, args\u001b[38;5;241m=\u001b[39margs, kwargs\u001b[38;5;241m=\u001b[39mkwargs)\n\u001b[0;32m    474\u001b[0m \u001b[38;5;28;01mwhile\u001b[39;00m \u001b[38;5;28;01mTrue\u001b[39;00m:\n\u001b[1;32m--> 475\u001b[0m     do \u001b[38;5;241m=\u001b[39m \u001b[38;5;28mself\u001b[39m\u001b[38;5;241m.\u001b[39miter(retry_state\u001b[38;5;241m=\u001b[39mretry_state)\n\u001b[0;32m    476\u001b[0m     \u001b[38;5;28;01mif\u001b[39;00m \u001b[38;5;28misinstance\u001b[39m(do, DoAttempt):\n\u001b[0;32m    477\u001b[0m         \u001b[38;5;28;01mtry\u001b[39;00m:\n",
      "File \u001b[1;32mC:\\Anaconda\\anaconda3\\envs\\genailearning\\Lib\\site-packages\\tenacity\\__init__.py:376\u001b[0m, in \u001b[0;36mBaseRetrying.iter\u001b[1;34m(self, retry_state)\u001b[0m\n\u001b[0;32m    374\u001b[0m result \u001b[38;5;241m=\u001b[39m \u001b[38;5;28;01mNone\u001b[39;00m\n\u001b[0;32m    375\u001b[0m \u001b[38;5;28;01mfor\u001b[39;00m action \u001b[38;5;129;01min\u001b[39;00m \u001b[38;5;28mself\u001b[39m\u001b[38;5;241m.\u001b[39miter_state\u001b[38;5;241m.\u001b[39mactions:\n\u001b[1;32m--> 376\u001b[0m     result \u001b[38;5;241m=\u001b[39m action(retry_state)\n\u001b[0;32m    377\u001b[0m \u001b[38;5;28;01mreturn\u001b[39;00m result\n",
      "File \u001b[1;32mC:\\Anaconda\\anaconda3\\envs\\genailearning\\Lib\\site-packages\\tenacity\\__init__.py:418\u001b[0m, in \u001b[0;36mBaseRetrying._post_stop_check_actions.<locals>.exc_check\u001b[1;34m(rs)\u001b[0m\n\u001b[0;32m    416\u001b[0m retry_exc \u001b[38;5;241m=\u001b[39m \u001b[38;5;28mself\u001b[39m\u001b[38;5;241m.\u001b[39mretry_error_cls(fut)\n\u001b[0;32m    417\u001b[0m \u001b[38;5;28;01mif\u001b[39;00m \u001b[38;5;28mself\u001b[39m\u001b[38;5;241m.\u001b[39mreraise:\n\u001b[1;32m--> 418\u001b[0m     \u001b[38;5;28;01mraise\u001b[39;00m retry_exc\u001b[38;5;241m.\u001b[39mreraise()\n\u001b[0;32m    419\u001b[0m \u001b[38;5;28;01mraise\u001b[39;00m retry_exc \u001b[38;5;28;01mfrom\u001b[39;00m \u001b[38;5;21;01mfut\u001b[39;00m\u001b[38;5;21;01m.\u001b[39;00m\u001b[38;5;21;01mexception\u001b[39;00m()\n",
      "File \u001b[1;32mC:\\Anaconda\\anaconda3\\envs\\genailearning\\Lib\\site-packages\\tenacity\\__init__.py:185\u001b[0m, in \u001b[0;36mRetryError.reraise\u001b[1;34m(self)\u001b[0m\n\u001b[0;32m    183\u001b[0m \u001b[38;5;28;01mdef\u001b[39;00m \u001b[38;5;21mreraise\u001b[39m(\u001b[38;5;28mself\u001b[39m) \u001b[38;5;241m-\u001b[39m\u001b[38;5;241m>\u001b[39m t\u001b[38;5;241m.\u001b[39mNoReturn:\n\u001b[0;32m    184\u001b[0m     \u001b[38;5;28;01mif\u001b[39;00m \u001b[38;5;28mself\u001b[39m\u001b[38;5;241m.\u001b[39mlast_attempt\u001b[38;5;241m.\u001b[39mfailed:\n\u001b[1;32m--> 185\u001b[0m         \u001b[38;5;28;01mraise\u001b[39;00m \u001b[38;5;28mself\u001b[39m\u001b[38;5;241m.\u001b[39mlast_attempt\u001b[38;5;241m.\u001b[39mresult()\n\u001b[0;32m    186\u001b[0m     \u001b[38;5;28;01mraise\u001b[39;00m \u001b[38;5;28mself\u001b[39m\n",
      "File \u001b[1;32mC:\\Anaconda\\anaconda3\\envs\\genailearning\\Lib\\concurrent\\futures\\_base.py:449\u001b[0m, in \u001b[0;36mFuture.result\u001b[1;34m(self, timeout)\u001b[0m\n\u001b[0;32m    447\u001b[0m     \u001b[38;5;28;01mraise\u001b[39;00m CancelledError()\n\u001b[0;32m    448\u001b[0m \u001b[38;5;28;01melif\u001b[39;00m \u001b[38;5;28mself\u001b[39m\u001b[38;5;241m.\u001b[39m_state \u001b[38;5;241m==\u001b[39m FINISHED:\n\u001b[1;32m--> 449\u001b[0m     \u001b[38;5;28;01mreturn\u001b[39;00m \u001b[38;5;28mself\u001b[39m\u001b[38;5;241m.\u001b[39m__get_result()\n\u001b[0;32m    451\u001b[0m \u001b[38;5;28mself\u001b[39m\u001b[38;5;241m.\u001b[39m_condition\u001b[38;5;241m.\u001b[39mwait(timeout)\n\u001b[0;32m    453\u001b[0m \u001b[38;5;28;01mif\u001b[39;00m \u001b[38;5;28mself\u001b[39m\u001b[38;5;241m.\u001b[39m_state \u001b[38;5;129;01min\u001b[39;00m [CANCELLED, CANCELLED_AND_NOTIFIED]:\n",
      "File \u001b[1;32mC:\\Anaconda\\anaconda3\\envs\\genailearning\\Lib\\concurrent\\futures\\_base.py:401\u001b[0m, in \u001b[0;36mFuture.__get_result\u001b[1;34m(self)\u001b[0m\n\u001b[0;32m    399\u001b[0m \u001b[38;5;28;01mif\u001b[39;00m \u001b[38;5;28mself\u001b[39m\u001b[38;5;241m.\u001b[39m_exception:\n\u001b[0;32m    400\u001b[0m     \u001b[38;5;28;01mtry\u001b[39;00m:\n\u001b[1;32m--> 401\u001b[0m         \u001b[38;5;28;01mraise\u001b[39;00m \u001b[38;5;28mself\u001b[39m\u001b[38;5;241m.\u001b[39m_exception\n\u001b[0;32m    402\u001b[0m     \u001b[38;5;28;01mfinally\u001b[39;00m:\n\u001b[0;32m    403\u001b[0m         \u001b[38;5;66;03m# Break a reference cycle with the exception in self._exception\u001b[39;00m\n\u001b[0;32m    404\u001b[0m         \u001b[38;5;28mself\u001b[39m \u001b[38;5;241m=\u001b[39m \u001b[38;5;28;01mNone\u001b[39;00m\n",
      "File \u001b[1;32mC:\\Anaconda\\anaconda3\\envs\\genailearning\\Lib\\site-packages\\tenacity\\__init__.py:478\u001b[0m, in \u001b[0;36mRetrying.__call__\u001b[1;34m(self, fn, *args, **kwargs)\u001b[0m\n\u001b[0;32m    476\u001b[0m \u001b[38;5;28;01mif\u001b[39;00m \u001b[38;5;28misinstance\u001b[39m(do, DoAttempt):\n\u001b[0;32m    477\u001b[0m     \u001b[38;5;28;01mtry\u001b[39;00m:\n\u001b[1;32m--> 478\u001b[0m         result \u001b[38;5;241m=\u001b[39m fn(\u001b[38;5;241m*\u001b[39margs, \u001b[38;5;241m*\u001b[39m\u001b[38;5;241m*\u001b[39mkwargs)\n\u001b[0;32m    479\u001b[0m     \u001b[38;5;28;01mexcept\u001b[39;00m \u001b[38;5;167;01mBaseException\u001b[39;00m:  \u001b[38;5;66;03m# noqa: B902\u001b[39;00m\n\u001b[0;32m    480\u001b[0m         retry_state\u001b[38;5;241m.\u001b[39mset_exception(sys\u001b[38;5;241m.\u001b[39mexc_info())  \u001b[38;5;66;03m# type: ignore[arg-type]\u001b[39;00m\n",
      "File \u001b[1;32mC:\\Anaconda\\anaconda3\\envs\\genailearning\\Lib\\site-packages\\langchain_google_genai\\chat_models.py:194\u001b[0m, in \u001b[0;36m_chat_with_retry.<locals>._chat_with_retry\u001b[1;34m(**kwargs)\u001b[0m\n\u001b[0;32m    190\u001b[0m     \u001b[38;5;28;01mraise\u001b[39;00m ChatGoogleGenerativeAIError(\n\u001b[0;32m    191\u001b[0m         \u001b[38;5;124mf\u001b[39m\u001b[38;5;124m\"\u001b[39m\u001b[38;5;124mInvalid argument provided to Gemini: \u001b[39m\u001b[38;5;132;01m{\u001b[39;00me\u001b[38;5;132;01m}\u001b[39;00m\u001b[38;5;124m\"\u001b[39m\n\u001b[0;32m    192\u001b[0m     ) \u001b[38;5;28;01mfrom\u001b[39;00m \u001b[38;5;21;01me\u001b[39;00m\n\u001b[0;32m    193\u001b[0m \u001b[38;5;28;01mexcept\u001b[39;00m \u001b[38;5;167;01mException\u001b[39;00m \u001b[38;5;28;01mas\u001b[39;00m e:\n\u001b[1;32m--> 194\u001b[0m     \u001b[38;5;28;01mraise\u001b[39;00m e\n",
      "File \u001b[1;32mC:\\Anaconda\\anaconda3\\envs\\genailearning\\Lib\\site-packages\\langchain_google_genai\\chat_models.py:178\u001b[0m, in \u001b[0;36m_chat_with_retry.<locals>._chat_with_retry\u001b[1;34m(**kwargs)\u001b[0m\n\u001b[0;32m    175\u001b[0m \u001b[38;5;129m@retry_decorator\u001b[39m\n\u001b[0;32m    176\u001b[0m \u001b[38;5;28;01mdef\u001b[39;00m \u001b[38;5;21m_chat_with_retry\u001b[39m(\u001b[38;5;241m*\u001b[39m\u001b[38;5;241m*\u001b[39mkwargs: Any) \u001b[38;5;241m-\u001b[39m\u001b[38;5;241m>\u001b[39m Any:\n\u001b[0;32m    177\u001b[0m     \u001b[38;5;28;01mtry\u001b[39;00m:\n\u001b[1;32m--> 178\u001b[0m         \u001b[38;5;28;01mreturn\u001b[39;00m generation_method(\u001b[38;5;241m*\u001b[39m\u001b[38;5;241m*\u001b[39mkwargs)\n\u001b[0;32m    179\u001b[0m     \u001b[38;5;66;03m# Do not retry for these errors.\u001b[39;00m\n\u001b[0;32m    180\u001b[0m     \u001b[38;5;28;01mexcept\u001b[39;00m google\u001b[38;5;241m.\u001b[39mapi_core\u001b[38;5;241m.\u001b[39mexceptions\u001b[38;5;241m.\u001b[39mFailedPrecondition \u001b[38;5;28;01mas\u001b[39;00m exc:\n",
      "File \u001b[1;32mC:\\Anaconda\\anaconda3\\envs\\genailearning\\Lib\\site-packages\\google\\ai\\generativelanguage_v1beta\\services\\generative_service\\client.py:830\u001b[0m, in \u001b[0;36mGenerativeServiceClient.generate_content\u001b[1;34m(self, request, model, contents, retry, timeout, metadata)\u001b[0m\n\u001b[0;32m    827\u001b[0m \u001b[38;5;28mself\u001b[39m\u001b[38;5;241m.\u001b[39m_validate_universe_domain()\n\u001b[0;32m    829\u001b[0m \u001b[38;5;66;03m# Send the request.\u001b[39;00m\n\u001b[1;32m--> 830\u001b[0m response \u001b[38;5;241m=\u001b[39m rpc(\n\u001b[0;32m    831\u001b[0m     request,\n\u001b[0;32m    832\u001b[0m     retry\u001b[38;5;241m=\u001b[39mretry,\n\u001b[0;32m    833\u001b[0m     timeout\u001b[38;5;241m=\u001b[39mtimeout,\n\u001b[0;32m    834\u001b[0m     metadata\u001b[38;5;241m=\u001b[39mmetadata,\n\u001b[0;32m    835\u001b[0m )\n\u001b[0;32m    837\u001b[0m \u001b[38;5;66;03m# Done; return the response.\u001b[39;00m\n\u001b[0;32m    838\u001b[0m \u001b[38;5;28;01mreturn\u001b[39;00m response\n",
      "File \u001b[1;32mC:\\Anaconda\\anaconda3\\envs\\genailearning\\Lib\\site-packages\\google\\api_core\\gapic_v1\\method.py:131\u001b[0m, in \u001b[0;36m_GapicCallable.__call__\u001b[1;34m(self, timeout, retry, compression, *args, **kwargs)\u001b[0m\n\u001b[0;32m    128\u001b[0m \u001b[38;5;28;01mif\u001b[39;00m \u001b[38;5;28mself\u001b[39m\u001b[38;5;241m.\u001b[39m_compression \u001b[38;5;129;01mis\u001b[39;00m \u001b[38;5;129;01mnot\u001b[39;00m \u001b[38;5;28;01mNone\u001b[39;00m:\n\u001b[0;32m    129\u001b[0m     kwargs[\u001b[38;5;124m\"\u001b[39m\u001b[38;5;124mcompression\u001b[39m\u001b[38;5;124m\"\u001b[39m] \u001b[38;5;241m=\u001b[39m compression\n\u001b[1;32m--> 131\u001b[0m \u001b[38;5;28;01mreturn\u001b[39;00m wrapped_func(\u001b[38;5;241m*\u001b[39margs, \u001b[38;5;241m*\u001b[39m\u001b[38;5;241m*\u001b[39mkwargs)\n",
      "File \u001b[1;32mC:\\Anaconda\\anaconda3\\envs\\genailearning\\Lib\\site-packages\\google\\api_core\\retry\\retry_unary.py:293\u001b[0m, in \u001b[0;36mRetry.__call__.<locals>.retry_wrapped_func\u001b[1;34m(*args, **kwargs)\u001b[0m\n\u001b[0;32m    289\u001b[0m target \u001b[38;5;241m=\u001b[39m functools\u001b[38;5;241m.\u001b[39mpartial(func, \u001b[38;5;241m*\u001b[39margs, \u001b[38;5;241m*\u001b[39m\u001b[38;5;241m*\u001b[39mkwargs)\n\u001b[0;32m    290\u001b[0m sleep_generator \u001b[38;5;241m=\u001b[39m exponential_sleep_generator(\n\u001b[0;32m    291\u001b[0m     \u001b[38;5;28mself\u001b[39m\u001b[38;5;241m.\u001b[39m_initial, \u001b[38;5;28mself\u001b[39m\u001b[38;5;241m.\u001b[39m_maximum, multiplier\u001b[38;5;241m=\u001b[39m\u001b[38;5;28mself\u001b[39m\u001b[38;5;241m.\u001b[39m_multiplier\n\u001b[0;32m    292\u001b[0m )\n\u001b[1;32m--> 293\u001b[0m \u001b[38;5;28;01mreturn\u001b[39;00m retry_target(\n\u001b[0;32m    294\u001b[0m     target,\n\u001b[0;32m    295\u001b[0m     \u001b[38;5;28mself\u001b[39m\u001b[38;5;241m.\u001b[39m_predicate,\n\u001b[0;32m    296\u001b[0m     sleep_generator,\n\u001b[0;32m    297\u001b[0m     timeout\u001b[38;5;241m=\u001b[39m\u001b[38;5;28mself\u001b[39m\u001b[38;5;241m.\u001b[39m_timeout,\n\u001b[0;32m    298\u001b[0m     on_error\u001b[38;5;241m=\u001b[39mon_error,\n\u001b[0;32m    299\u001b[0m )\n",
      "File \u001b[1;32mC:\\Anaconda\\anaconda3\\envs\\genailearning\\Lib\\site-packages\\google\\api_core\\retry\\retry_unary.py:153\u001b[0m, in \u001b[0;36mretry_target\u001b[1;34m(target, predicate, sleep_generator, timeout, on_error, exception_factory, **kwargs)\u001b[0m\n\u001b[0;32m    149\u001b[0m \u001b[38;5;66;03m# pylint: disable=broad-except\u001b[39;00m\n\u001b[0;32m    150\u001b[0m \u001b[38;5;66;03m# This function explicitly must deal with broad exceptions.\u001b[39;00m\n\u001b[0;32m    151\u001b[0m \u001b[38;5;28;01mexcept\u001b[39;00m \u001b[38;5;167;01mException\u001b[39;00m \u001b[38;5;28;01mas\u001b[39;00m exc:\n\u001b[0;32m    152\u001b[0m     \u001b[38;5;66;03m# defer to shared logic for handling errors\u001b[39;00m\n\u001b[1;32m--> 153\u001b[0m     _retry_error_helper(\n\u001b[0;32m    154\u001b[0m         exc,\n\u001b[0;32m    155\u001b[0m         deadline,\n\u001b[0;32m    156\u001b[0m         sleep,\n\u001b[0;32m    157\u001b[0m         error_list,\n\u001b[0;32m    158\u001b[0m         predicate,\n\u001b[0;32m    159\u001b[0m         on_error,\n\u001b[0;32m    160\u001b[0m         exception_factory,\n\u001b[0;32m    161\u001b[0m         timeout,\n\u001b[0;32m    162\u001b[0m     )\n\u001b[0;32m    163\u001b[0m     \u001b[38;5;66;03m# if exception not raised, sleep before next attempt\u001b[39;00m\n\u001b[0;32m    164\u001b[0m     time\u001b[38;5;241m.\u001b[39msleep(sleep)\n",
      "File \u001b[1;32mC:\\Anaconda\\anaconda3\\envs\\genailearning\\Lib\\site-packages\\google\\api_core\\retry\\retry_base.py:212\u001b[0m, in \u001b[0;36m_retry_error_helper\u001b[1;34m(exc, deadline, next_sleep, error_list, predicate_fn, on_error_fn, exc_factory_fn, original_timeout)\u001b[0m\n\u001b[0;32m    206\u001b[0m \u001b[38;5;28;01mif\u001b[39;00m \u001b[38;5;129;01mnot\u001b[39;00m predicate_fn(exc):\n\u001b[0;32m    207\u001b[0m     final_exc, source_exc \u001b[38;5;241m=\u001b[39m exc_factory_fn(\n\u001b[0;32m    208\u001b[0m         error_list,\n\u001b[0;32m    209\u001b[0m         RetryFailureReason\u001b[38;5;241m.\u001b[39mNON_RETRYABLE_ERROR,\n\u001b[0;32m    210\u001b[0m         original_timeout,\n\u001b[0;32m    211\u001b[0m     )\n\u001b[1;32m--> 212\u001b[0m     \u001b[38;5;28;01mraise\u001b[39;00m final_exc \u001b[38;5;28;01mfrom\u001b[39;00m \u001b[38;5;21;01msource_exc\u001b[39;00m\n\u001b[0;32m    213\u001b[0m \u001b[38;5;28;01mif\u001b[39;00m on_error_fn \u001b[38;5;129;01mis\u001b[39;00m \u001b[38;5;129;01mnot\u001b[39;00m \u001b[38;5;28;01mNone\u001b[39;00m:\n\u001b[0;32m    214\u001b[0m     on_error_fn(exc)\n",
      "File \u001b[1;32mC:\\Anaconda\\anaconda3\\envs\\genailearning\\Lib\\site-packages\\google\\api_core\\retry\\retry_unary.py:144\u001b[0m, in \u001b[0;36mretry_target\u001b[1;34m(target, predicate, sleep_generator, timeout, on_error, exception_factory, **kwargs)\u001b[0m\n\u001b[0;32m    142\u001b[0m \u001b[38;5;28;01mfor\u001b[39;00m sleep \u001b[38;5;129;01min\u001b[39;00m sleep_generator:\n\u001b[0;32m    143\u001b[0m     \u001b[38;5;28;01mtry\u001b[39;00m:\n\u001b[1;32m--> 144\u001b[0m         result \u001b[38;5;241m=\u001b[39m target()\n\u001b[0;32m    145\u001b[0m         \u001b[38;5;28;01mif\u001b[39;00m inspect\u001b[38;5;241m.\u001b[39misawaitable(result):\n\u001b[0;32m    146\u001b[0m             warnings\u001b[38;5;241m.\u001b[39mwarn(_ASYNC_RETRY_WARNING)\n",
      "File \u001b[1;32mC:\\Anaconda\\anaconda3\\envs\\genailearning\\Lib\\site-packages\\google\\api_core\\timeout.py:120\u001b[0m, in \u001b[0;36mTimeToDeadlineTimeout.__call__.<locals>.func_with_timeout\u001b[1;34m(*args, **kwargs)\u001b[0m\n\u001b[0;32m    117\u001b[0m     \u001b[38;5;66;03m# Avoid setting negative timeout\u001b[39;00m\n\u001b[0;32m    118\u001b[0m     kwargs[\u001b[38;5;124m\"\u001b[39m\u001b[38;5;124mtimeout\u001b[39m\u001b[38;5;124m\"\u001b[39m] \u001b[38;5;241m=\u001b[39m \u001b[38;5;28mmax\u001b[39m(\u001b[38;5;241m0\u001b[39m, \u001b[38;5;28mself\u001b[39m\u001b[38;5;241m.\u001b[39m_timeout \u001b[38;5;241m-\u001b[39m time_since_first_attempt)\n\u001b[1;32m--> 120\u001b[0m \u001b[38;5;28;01mreturn\u001b[39;00m func(\u001b[38;5;241m*\u001b[39margs, \u001b[38;5;241m*\u001b[39m\u001b[38;5;241m*\u001b[39mkwargs)\n",
      "File \u001b[1;32mC:\\Anaconda\\anaconda3\\envs\\genailearning\\Lib\\site-packages\\google\\api_core\\grpc_helpers.py:78\u001b[0m, in \u001b[0;36m_wrap_unary_errors.<locals>.error_remapped_callable\u001b[1;34m(*args, **kwargs)\u001b[0m\n\u001b[0;32m     76\u001b[0m     \u001b[38;5;28;01mreturn\u001b[39;00m callable_(\u001b[38;5;241m*\u001b[39margs, \u001b[38;5;241m*\u001b[39m\u001b[38;5;241m*\u001b[39mkwargs)\n\u001b[0;32m     77\u001b[0m \u001b[38;5;28;01mexcept\u001b[39;00m grpc\u001b[38;5;241m.\u001b[39mRpcError \u001b[38;5;28;01mas\u001b[39;00m exc:\n\u001b[1;32m---> 78\u001b[0m     \u001b[38;5;28;01mraise\u001b[39;00m exceptions\u001b[38;5;241m.\u001b[39mfrom_grpc_error(exc) \u001b[38;5;28;01mfrom\u001b[39;00m \u001b[38;5;21;01mexc\u001b[39;00m\n",
      "\u001b[1;31mResourceExhausted\u001b[0m: 429 Resource has been exhausted (e.g. check quota)."
     ]
    }
   ],
   "source": [
    "df_augmented= augment_for_class_imbalance(llm,df_encoded, \"Potential_Accident_Level\", 5)"
   ]
  },
  {
   "cell_type": "code",
   "execution_count": 88,
   "id": "22df7961-e9fc-49a9-8374-a5a12c426897",
   "metadata": {},
   "outputs": [
    {
     "data": {
      "text/plain": [
       "(425, 10)"
      ]
     },
     "execution_count": 88,
     "metadata": {},
     "output_type": "execute_result"
    }
   ],
   "source": [
    "df_encoded.shape"
   ]
  },
  {
   "cell_type": "code",
   "execution_count": 112,
   "id": "7284e199-680a-4e63-a486-ea7d0bda5509",
   "metadata": {},
   "outputs": [
    {
     "name": "stdout",
     "output_type": "stream",
     "text": [
      "<class 'pandas.core.frame.DataFrame'>\n",
      "RangeIndex: 467 entries, 0 to 466\n",
      "Data columns (total 10 columns):\n",
      " #   Column                    Non-Null Count  Dtype \n",
      "---  ------                    --------------  ----- \n",
      " 0   Date                      467 non-null    object\n",
      " 1   Country                   467 non-null    object\n",
      " 2   Location                  467 non-null    object\n",
      " 3   Industry_Sector           467 non-null    object\n",
      " 4   Accident_Level            467 non-null    object\n",
      " 5   Potential_Accident_Level  467 non-null    object\n",
      " 6   Gender                    467 non-null    object\n",
      " 7   Employee_Type             467 non-null    object\n",
      " 8   Critical_Risk             467 non-null    object\n",
      " 9   Description               467 non-null    object\n",
      "dtypes: object(10)\n",
      "memory usage: 36.6+ KB\n"
     ]
    }
   ],
   "source": [
    "df_augmented.info()"
   ]
  },
  {
   "cell_type": "code",
   "execution_count": 113,
   "id": "4d2f1c13-a84b-4c06-8813-541e007aad49",
   "metadata": {},
   "outputs": [
    {
     "data": {
      "text/plain": [
       "(467, 10)"
      ]
     },
     "execution_count": 113,
     "metadata": {},
     "output_type": "execute_result"
    }
   ],
   "source": [
    "df_augmented.shape"
   ]
  },
  {
   "cell_type": "code",
   "execution_count": 114,
   "id": "dc6822d3-11cd-4803-9780-12898c8cd305",
   "metadata": {},
   "outputs": [
    {
     "data": {
      "text/html": [
       "<div>\n",
       "<style scoped>\n",
       "    .dataframe tbody tr th:only-of-type {\n",
       "        vertical-align: middle;\n",
       "    }\n",
       "\n",
       "    .dataframe tbody tr th {\n",
       "        vertical-align: top;\n",
       "    }\n",
       "\n",
       "    .dataframe thead th {\n",
       "        text-align: right;\n",
       "    }\n",
       "</style>\n",
       "<table border=\"1\" class=\"dataframe\">\n",
       "  <thead>\n",
       "    <tr style=\"text-align: right;\">\n",
       "      <th></th>\n",
       "      <th>Date</th>\n",
       "      <th>Country</th>\n",
       "      <th>Location</th>\n",
       "      <th>Industry_Sector</th>\n",
       "      <th>Accident_Level</th>\n",
       "      <th>Potential_Accident_Level</th>\n",
       "      <th>Gender</th>\n",
       "      <th>Employee_Type</th>\n",
       "      <th>Critical_Risk</th>\n",
       "      <th>Description</th>\n",
       "    </tr>\n",
       "  </thead>\n",
       "  <tbody>\n",
       "    <tr>\n",
       "      <th>462</th>\n",
       "      <td>2016-09-27T08:15:00Z</td>\n",
       "      <td>Country_02</td>\n",
       "      <td>Local_05</td>\n",
       "      <td>Metals</td>\n",
       "      <td>2</td>\n",
       "      <td>3</td>\n",
       "      <td>Female</td>\n",
       "      <td>Employee</td>\n",
       "      <td>Pinch points</td>\n",
       "      <td>During routine maintenance on a conveyor belt, a worker's hand became caught between the belt and a roller. The resulting injury required first aid treatment for minor abrasions and bruising.</td>\n",
       "    </tr>\n",
       "    <tr>\n",
       "      <th>463</th>\n",
       "      <td>2017-03-01T16:45:00Z</td>\n",
       "      <td>Country_03</td>\n",
       "      <td>Local_08</td>\n",
       "      <td>Others</td>\n",
       "      <td>1</td>\n",
       "      <td>3</td>\n",
       "      <td>Male</td>\n",
       "      <td>Third Party</td>\n",
       "      <td>Slips, trips, and falls</td>\n",
       "      <td>A delivery driver slipped on a wet patch of concrete near the loading dock. The driver fell and sustained a minor sprain to their ankle.</td>\n",
       "    </tr>\n",
       "    <tr>\n",
       "      <th>464</th>\n",
       "      <td>2016-11-18T11:00:00Z</td>\n",
       "      <td>Country_01</td>\n",
       "      <td>Local_01</td>\n",
       "      <td>Mining</td>\n",
       "      <td>4</td>\n",
       "      <td>3</td>\n",
       "      <td>Male</td>\n",
       "      <td>Employee</td>\n",
       "      <td>Machinery malfunction</td>\n",
       "      <td>A malfunction in a ventilation fan caused a build-up of methane gas in a section of the mine.  The resulting explosion caused significant damage to the ventilation system and resulted in minor injuries to two workers who were in the vicinity.</td>\n",
       "    </tr>\n",
       "    <tr>\n",
       "      <th>465</th>\n",
       "      <td>2017-05-23T19:30:00Z</td>\n",
       "      <td>Country_02</td>\n",
       "      <td>Local_12</td>\n",
       "      <td>Metals</td>\n",
       "      <td>1</td>\n",
       "      <td>3</td>\n",
       "      <td>Female</td>\n",
       "      <td>Third Party (Remote)</td>\n",
       "      <td>Exposure to hazardous materials</td>\n",
       "      <td>A contractor working on the roof of a processing plant was exposed to a small amount of a chemical sealant. The worker experienced minor skin irritation and was treated with a topical cream.</td>\n",
       "    </tr>\n",
       "    <tr>\n",
       "      <th>466</th>\n",
       "      <td>2016-07-05T06:00:00Z</td>\n",
       "      <td>Country_03</td>\n",
       "      <td>Local_02</td>\n",
       "      <td>Others</td>\n",
       "      <td>3</td>\n",
       "      <td>3</td>\n",
       "      <td>Male</td>\n",
       "      <td>Employee</td>\n",
       "      <td>Electrical hazards</td>\n",
       "      <td>An electrician received an electrical shock while repairing a faulty circuit breaker. The worker was wearing appropriate safety gear, which minimized the severity of the shock, but they still required medical observation.</td>\n",
       "    </tr>\n",
       "  </tbody>\n",
       "</table>\n",
       "</div>"
      ],
      "text/plain": [
       "                     Date     Country  Location Industry_Sector  \\\n",
       "462  2016-09-27T08:15:00Z  Country_02  Local_05          Metals   \n",
       "463  2017-03-01T16:45:00Z  Country_03  Local_08          Others   \n",
       "464  2016-11-18T11:00:00Z  Country_01  Local_01          Mining   \n",
       "465  2017-05-23T19:30:00Z  Country_02  Local_12          Metals   \n",
       "466  2016-07-05T06:00:00Z  Country_03  Local_02          Others   \n",
       "\n",
       "    Accident_Level Potential_Accident_Level  Gender         Employee_Type  \\\n",
       "462              2                        3  Female              Employee   \n",
       "463              1                        3    Male           Third Party   \n",
       "464              4                        3    Male              Employee   \n",
       "465              1                        3  Female  Third Party (Remote)   \n",
       "466              3                        3    Male              Employee   \n",
       "\n",
       "                       Critical_Risk  \\\n",
       "462                     Pinch points   \n",
       "463          Slips, trips, and falls   \n",
       "464            Machinery malfunction   \n",
       "465  Exposure to hazardous materials   \n",
       "466               Electrical hazards   \n",
       "\n",
       "                                                                                                                                                                                                                                            Description  \n",
       "462                                                     During routine maintenance on a conveyor belt, a worker's hand became caught between the belt and a roller. The resulting injury required first aid treatment for minor abrasions and bruising.  \n",
       "463                                                                                                            A delivery driver slipped on a wet patch of concrete near the loading dock. The driver fell and sustained a minor sprain to their ankle.  \n",
       "464  A malfunction in a ventilation fan caused a build-up of methane gas in a section of the mine.  The resulting explosion caused significant damage to the ventilation system and resulted in minor injuries to two workers who were in the vicinity.  \n",
       "465                                                      A contractor working on the roof of a processing plant was exposed to a small amount of a chemical sealant. The worker experienced minor skin irritation and was treated with a topical cream.  \n",
       "466                       An electrician received an electrical shock while repairing a faulty circuit breaker. The worker was wearing appropriate safety gear, which minimized the severity of the shock, but they still required medical observation.  "
      ]
     },
     "execution_count": 114,
     "metadata": {},
     "output_type": "execute_result"
    }
   ],
   "source": [
    "df_augmented.tail()"
   ]
  },
  {
   "cell_type": "code",
   "execution_count": 53,
   "id": "a0c81e42-236f-44da-a36c-ebc7ea3cd071",
   "metadata": {},
   "outputs": [],
   "source": [
    "df_augmented = data_augmentation(df_encoded, llm, \"Potential_Accident_Level\", 5, 10)"
   ]
  },
  {
   "cell_type": "code",
   "execution_count": 54,
   "id": "ed705f32-7f6c-435a-8b9d-12b502ce1255",
   "metadata": {},
   "outputs": [
    {
     "data": {
      "text/plain": [
       "154                                                                                                                                                                                                                                                                                                                                                                   At approximately 5:45 pm, the operator Paulo (operator of the filters) informed the autoclave operator via radio of a leak on the side of the scruber. The autoclave III feed was stopped by the control and officials Georli and Renato initiated the procedures for closing the autoclave transfer valve for flash TQs. Soon after, there was a break in the chicken, projecting pulp hot and reaching three employees who were inside the room near the equipment.\n",
       "379                                                                                                                                                                                                                                                                                                                                                                                                              ACTIVITY: front sanitation (slaughter of choco with scaller) LOCAL: underground mine, level 350 - front 45 Upper JKA The operator performed front sanitation when a rock block from the roof hit the equipment. The accident victim was promptly rescued by the unit's emergency brigade and transported to the outpatient clinic where he received the first care, and was then transferred to the Municipal of Paracatu.\n",
       "76     In circumstances that two workers of the Abratech company were doing putty work inside the conditioning tank (5 meters deep and covered by platforms) of metal gratings - grating- in the upper part), two other employees of the HyT company carried out maneuvers transfer of a pump with the help of a manual tick - which worked hooked to a beam H, dragging the pump on the metal gratings (grating), suddenly the pump is hooked with a metal grate (grating) and when trying to release it, the metal grid (grating - 13.0 Kg. (60 cm x 92 cm)) falls inside the tank, hits a diagonal channel inside the tank and then impacts the right arm of one of the workers and rubs the helmet of the second worker that he was crouching. The area where the bomb was being moved was marked with tape and did not have a lookout.\n",
       "96                                                                                                                                                                                                                                                                                                                                                                                                                                                                                                                                                                                                                                When performing cleaning with LHD in block F 9970 at level 420, the operator was surprised by a rock block displacement of the side of the gallery, reaching his right leg causing him superficial injury\n",
       "38                                                                                                                                                                                                                                                                                                                                                                                                                                                                                           When starting the activity of removing a coil of electric cables in the warehouse with the help of forklift truck the operator did not notice that there was a beehive in it. Due to the movement of the coil the bees were excited. Realizing the fact the operator turned off the equipment and left the area. People passing by were stung.\n",
       "Name: Description, dtype: object"
      ]
     },
     "execution_count": 54,
     "metadata": {},
     "output_type": "execute_result"
    }
   ],
   "source": [
    "filtered_df = df_encoded.query(\"Potential_Accident_Level == 5\") \n",
    "filtered_df.sample(n=min(len(filtered_df), 5))[\"Description\"]"
   ]
  },
  {
   "cell_type": "code",
   "execution_count": 41,
   "id": "fda4ce2e-f270-4b68-9d8c-e219419687b8",
   "metadata": {},
   "outputs": [
    {
     "data": {
      "text/plain": [
       "0                    Worker was struck by a falling piece of metal while working on the assembly line.\n",
       "1       Third-party contractor slipped on a wet surface near the mine entrance and sustained injuries.\n",
       "2      Employee experienced minor skin irritation due to chemical exposure during cleaning procedures.\n",
       "3    Remote third-party technician received an electric shock while working on a faulty control panel.\n",
       "4                         Mining equipment malfunctioned, resulting in serious injury to the operator.\n",
       "5                           Employee developed back pain due to repetitive lifting of heavy materials.\n",
       "6                 Third-party delivery driver tripped on uneven pavement and sustained minor injuries.\n",
       "7                        A gas leak led to an explosion in the mine, resulting in multiple fatalities.\n",
       "8                    Fire broke out in a remote third-party warehouse due to faulty electrical wiring.\n",
       "9                               Worker was injured when caught between two moving pieces of machinery.\n",
       "Name: Description, dtype: object"
      ]
     },
     "execution_count": 41,
     "metadata": {},
     "output_type": "execute_result"
    }
   ],
   "source": [
    "df_augmented[\"Description\"]"
   ]
  },
  {
   "cell_type": "code",
   "execution_count": 25,
   "id": "c8b3e6f7-e0c7-4567-8f40-f1bbdc090b2e",
   "metadata": {},
   "outputs": [],
   "source": [
    "# Step 2: Apply a `where` clause to filter rows\n",
    "filtered_df = df_encoded.query(\"Potential_Accident_Level == 5\")  # Example: Filter rows where `type` is 'data'\n",
    "\n",
    "# Step 3: Convert filtered rows to JSON strings\n",
    "#fewShotExamples  =  \"\".join(filtered_df.sample(n=min(len(filtered_df), 5)).to_dict(orient=\"records\"))\n",
    "accident_examples = [\n",
    "    {\n",
    "        \"example\": f\"\"\"Date:{row.Date}, Country={row.Country}, Location={row.Location},Industry_Sector={row.Industry_Sector}\n",
    "        ,Accident_Level={row.Accident_Level},Potential_Accident_Level={row.Potential_Accident_Level},Gender={row.Gender}\n",
    "        ,Employee_Type={row.Employee_Type}\n",
    "        ,Critical_Risk={row.Critical_Risk},Description={row.Description}\"\"\"\n",
    "    }\n",
    "    for _, row in filtered_df.sample(n=min(len(filtered_df), 5)).iterrows()\n",
    "]\n",
    "# Step 2: Loop to pick different samples each time\n",
    "#for i in range(3):  # Run the loop 3 times\n",
    " #   random_rows = filtered_df.sample(n=min(len(filtered_df), 5))  # Pick up to 5 rows\n",
    "  #  print(f\"Sample {i + 1}:\\n{random_rows}\\n\")"
   ]
  },
  {
   "cell_type": "code",
   "execution_count": 26,
   "id": "b2806228-7b50-4809-b75d-dca96f0ead06",
   "metadata": {},
   "outputs": [],
   "source": [
    "SYNTHETIC_FEW_SHOT_PREFIX=f\"\"\"You are a synthetic data generator. Generate list of data in the following JSON format:\n",
    "            Output each JSON object on a new line seperated by a comma. Do not iutput keyword \"JSON\" in the output\n",
    "            {{schema}}\n",
    "            \"\"\"\n",
    "\n",
    "SYNTHETIC_FEW_SHOT_SUFFIX=\"Ensure the output strictly adheres to this format and includes realistic and diverse values for each field.\""
   ]
  },
  {
   "cell_type": "code",
   "execution_count": 27,
   "id": "85db6f3d-fd70-4f44-9dc8-d926d6239b11",
   "metadata": {},
   "outputs": [],
   "source": [
    "prompt_template = PromptTemplate (input_variables  =[\"example\"],template =\"{example}\")\n",
    "#PROMPT_TEMPLATE = PromptTemplate(\n",
    "#input_variables=['Country', 'Location', 'Industry_Sector', 'Accident_Level', 'Potential_Accident_Level', 'Gender', 'Employee_Type', 'Critical_Risk', 'Description', 'Month'],\n",
    " #   template=\"'Country:{Country}\\nLocation:{Location}\\nIndustry_Sector:{Industry_Sector}\\nAccident_Level:{Accident_Level}\\nPotential_Accident_Level:{Potential_Accident_Level}\\nGender:{Gender }\\nEmployee_Type:{Employee_Type }\\nCritical_Risk:{Critical_Risk}\\nDescription:{Description}\\nMonth:{Month}\\\"\n",
    "#)\n",
    "\n",
    "prompt_template= FewShotPromptTemplate(\n",
    "    prefix= SYNTHETIC_FEW_SHOT_PREFIX,\n",
    "    examples = accident_examples,\n",
    "    suffix= SYNTHETIC_FEW_SHOT_SUFFIX,\n",
    "    input_variables=[\"schema\"],\n",
    "    example_prompt = prompt_template\n",
    ")"
   ]
  },
  {
   "cell_type": "code",
   "execution_count": 30,
   "id": "407f4d6c-8b0f-4b0d-86bb-085cbf6fc098",
   "metadata": {},
   "outputs": [],
   "source": [
    "generator = SyntheticDataGenerator(template=prompt_template, llm=llm)\n",
    "results = generator.generate(subject=\"Mining and Metal Industry Accident related data\", \n",
    "                             schema=generate_schema(industry_accident)\n",
    "                             , runs=1)"
   ]
  },
  {
   "cell_type": "code",
   "execution_count": 31,
   "id": "bb1ac36a-3226-4451-93fb-10a936dd32f8",
   "metadata": {},
   "outputs": [
    {
     "data": {
      "text/plain": [
       "'{\"Date\": \"2016-05-12 00:00:00\", \"Countries\": \"Country_01\", \"Location\": \"Local_07\", \"Industry_Sector\": \"Mining\", \"Accident_Level\": \"III\", \"Potential_Accident_Level\": \"IV\", \"Gender\": \"Male\", \"Employee_Type\": \"Employee\", \"Critical_Risk\": \"Falling objects\", \"Description\": \"While bolting the roof, a loose rock fell and struck the worker\\'s shoulder.\"},\\n{\"Date\": \"2016-11-28 00:00:00\", \"Countries\": \"Country_02\", \"Location\": \"Local_03\", \"Industry_Sector\": \"Metal\", \"Accident_Level\": \"I\", \"Potential_Accident_Level\": \"II\", \"Gender\": \"Female\", \"Employee_Type\": \"Employee\", \"Critical_Risk\": \"Sharp edges\", \"Description\": \"Worker sustained a minor cut to her hand while handling sheet metal.\"},\\n{\"Date\": \"2017-01-03 00:00:00\", \"Countries\": \"Country_03\", \"Location\": \"Local_10\", \"Industry_Sector\": \"Others\", \"Accident_Level\": \"II\", \"Potential_Accident_Level\": \"III\", \"Gender\": \"Male\", \"Employee_Type\": \"Third Party\", \"Critical_Risk\": \"Slippery surface\", \"Description\": \"Delivery driver slipped and fell while unloading materials, resulting in a sprained ankle.\"},\\n{\"Date\": \"2016-09-19 00:00:00\", \"Countries\": \"Country_01\", \"Location\": \"Local_01\", \"Industry_Sector\": \"Mining\", \"Accident_Level\": \"IV\", \"Potential_Accident_Level\": \"V\", \"Gender\": \"Male\", \"Employee_Type\": \"Employee\", \"Critical_Risk\": \"Machinery malfunction\", \"Description\": \"Conveyor belt malfunctioned, causing a worker\\'s arm to be caught.  Required medical attention.\"},\\n{\"Date\": \"2017-04-06 00:00:00\", \"Countries\": \"Country_02\", \"Location\": \"Local_05\", \"Industry_Sector\": \"Metal\", \"Accident_Level\": \"VI\", \"Potential_Accident_Level\": \"VI\", \"Gender\": \"Male\", \"Employee_Type\": \"Third Party (Remote)\", \"Critical_Risk\": \"Electrical hazard\", \"Description\": \"Contractor working on electrical wiring received a severe shock, resulting in hospitalization.\"},\\n{\"Date\": \"2016-12-22 00:00:00\", \"Countries\": \"Country_03\", \"Location\": \"Local_02\", \"Industry_Sector\": \"Others\", \"Accident_Level\": \"I\", \"Potential_Accident_Level\": \"I\", \"Gender\": \"Female\", \"Employee_Type\": \"Employee\", \"Critical_Risk\": \"Ergonomic hazards\", \"Description\": \"Worker reported back pain after repetitive lifting.\"},\\n{\"Date\": \"2017-06-15 00:00:00\", \"Countries\": \"Country_01\", \"Location\": \"Local_09\", \"Industry_Sector\": \"Mining\", \"Accident_Level\": \"II\", \"Potential_Accident_Level\": \"II\", \"Gender\": \"Male\", \"Employee_Type\": \"Employee\", \"Critical_Risk\": \"Noise exposure\", \"Description\": \"Worker experienced temporary hearing loss after working in a noisy environment without proper hearing protection.\"},\\n{\"Date\": \"2016-08-02 00:00:00\", \"Countries\": \"Country_02\", \"Location\": \"Local_12\", \"Industry_Sector\": \"Metal\", \"Accident_Level\": \"III\", \"Potential_Accident_Level\": \"IV\", \"Gender\": \"Female\", \"Employee_Type\": \"Employee\", \"Critical_Risk\": \"Chemical exposure\", \"Description\": \"Worker inhaled fumes and experienced dizziness and nausea.\"},\\n{\"Date\": \"2017-03-21 00:00:00\", \"Countries\": \"Country_03\", \"Location\": \"Local_04\", \"Industry_Sector\": \"Others\", \"Accident_Level\": \"V\", \"Potential_Accident_Level\": \"VI\", \"Gender\": \"Male\", \"Employee_Type\": \"Third Party\", \"Critical_Risk\": \"Falling from height\", \"Description\": \"Contractor fell from scaffolding while performing maintenance work, resulting in serious injuries.\"},\\n{\"Date\": \"2016-10-27 00:00:00\", \"Countries\": \"Country_01\", \"Location\": \"Local_06\", \"Industry_Sector\": \"Mining\", \"Accident_Level\": \"IV\", \"Potential_Accident_Level\": \"IV\", \"Gender\": \"Male\", \"Employee_Type\": \"Employee\", \"Critical_Risk\": \"Confined space\", \"Description\": \"Worker experienced difficulty breathing while working in a confined space.\"}\\n'"
      ]
     },
     "execution_count": 31,
     "metadata": {},
     "output_type": "execute_result"
    }
   ],
   "source": [
    "results[0]"
   ]
  },
  {
   "cell_type": "code",
   "execution_count": null,
   "id": "32da9968-2e23-4f38-aaba-2bbbaca43300",
   "metadata": {},
   "outputs": [],
   "source": []
  }
 ],
 "metadata": {
  "kernelspec": {
   "display_name": "Python 3 (ipykernel)",
   "language": "python",
   "name": "python3"
  },
  "language_info": {
   "codemirror_mode": {
    "name": "ipython",
    "version": 3
   },
   "file_extension": ".py",
   "mimetype": "text/x-python",
   "name": "python",
   "nbconvert_exporter": "python",
   "pygments_lexer": "ipython3",
   "version": "3.12.7"
  }
 },
 "nbformat": 4,
 "nbformat_minor": 5
}
