{
 "cells": [
  {
   "cell_type": "code",
   "execution_count": null,
   "id": "9ac5a5c3-6b57-4caa-9508-13e5992e759b",
   "metadata": {},
   "outputs": [],
   "source": []
  }
 ],
 "metadata": {
  "kernelspec": {
   "display_name": "",
   "name": ""
  },
  "language_info": {
   "name": ""
  }
 },
 "nbformat": 4,
 "nbformat_minor": 5
}
