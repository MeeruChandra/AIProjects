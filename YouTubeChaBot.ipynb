{
 "cells": [
  {
   "cell_type": "code",
   "execution_count": 1,
   "id": "3dce0e41-7e9b-4091-a2e5-a643403b3605",
   "metadata": {},
   "outputs": [],
   "source": [
    "import groq"
   ]
  },
  {
   "cell_type": "code",
   "execution_count": 2,
   "id": "a2168562-30e3-4cd0-8bbb-6888674930bc",
   "metadata": {},
   "outputs": [],
   "source": [
    "from dotenv import find_dotenv , load_dotenv\n",
    "import os\n",
    "load_dotenv()\n",
    "groq_api_key= os.environ[\"GROQ-API-Key\"]"
   ]
  },
  {
   "cell_type": "code",
   "execution_count": 3,
   "id": "bf4f9668-158e-4cb4-9772-470e11b3521f",
   "metadata": {},
   "outputs": [
    {
     "name": "stdout",
     "output_type": "stream",
     "text": [
      "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\n"
     ]
    }
   ],
   "source": [
    "print(groq_api_key)"
   ]
  },
  {
   "cell_type": "markdown",
   "id": "09f21714-ff0d-4157-b424-6b11c7fd0086",
   "metadata": {},
   "source": [
    "# With GROQ API"
   ]
  },
  {
   "cell_type": "code",
   "execution_count": 9,
   "id": "abeb0d68-b800-46e6-bac8-6fd06808faa5",
   "metadata": {},
   "outputs": [
    {
     "name": "stdout",
     "output_type": "stream",
     "text": [
      "Hello. I'm doing well, thanks for asking. I'm a large language model, so I don't have feelings or emotions like humans do, but I'm functioning properly and ready to help with any questions or tasks you may have. How about you? How's your day going so far?\n"
     ]
    }
   ],
   "source": [
    "from groq import Groq\n",
    "client = Groq(api_key=groq_api_key)\n",
    "chat_completion = client.chat.completions.create(messages=[{\"role\":\"user\", \"content\":\"Hello How are your today?\"}],\n",
    "                                         model =\"llama-3.1-70b-versatile\")\n",
    "print(chat_completion.choices[0].message.content)\n",
    "                                         "
   ]
  },
  {
   "cell_type": "markdown",
   "id": "b8d3c246-07d1-4dc6-9cb9-c208bb9d38b4",
   "metadata": {},
   "source": [
    "# With Langchain-Groq"
   ]
  },
  {
   "cell_type": "code",
   "execution_count": 10,
   "id": "f62daee3-8e12-4068-9ddd-8a69dd232b4f",
   "metadata": {},
   "outputs": [
    {
     "name": "stdout",
     "output_type": "stream",
     "text": [
      "Collecting langchain-groq\n",
      "  Downloading langchain_groq-0.2.3-py3-none-any.whl.metadata (3.0 kB)\n",
      "Requirement already satisfied: groq<1,>=0.4.1 in c:\\anaconda\\anaconda3\\envs\\genailearning\\lib\\site-packages (from langchain-groq) (0.15.0)\n",
      "Collecting langchain-core<0.4.0,>=0.3.29 (from langchain-groq)\n",
      "  Downloading langchain_core-0.3.29-py3-none-any.whl.metadata (6.3 kB)\n",
      "Requirement already satisfied: anyio<5,>=3.5.0 in c:\\anaconda\\anaconda3\\envs\\genailearning\\lib\\site-packages (from groq<1,>=0.4.1->langchain-groq) (3.7.1)\n",
      "Requirement already satisfied: distro<2,>=1.7.0 in c:\\anaconda\\anaconda3\\envs\\genailearning\\lib\\site-packages (from groq<1,>=0.4.1->langchain-groq) (1.9.0)\n",
      "Requirement already satisfied: httpx<1,>=0.23.0 in c:\\anaconda\\anaconda3\\envs\\genailearning\\lib\\site-packages (from groq<1,>=0.4.1->langchain-groq) (0.27.0)\n",
      "Requirement already satisfied: pydantic<3,>=1.9.0 in c:\\anaconda\\anaconda3\\envs\\genailearning\\lib\\site-packages (from groq<1,>=0.4.1->langchain-groq) (2.9.2)\n",
      "Requirement already satisfied: sniffio in c:\\anaconda\\anaconda3\\envs\\genailearning\\lib\\site-packages (from groq<1,>=0.4.1->langchain-groq) (1.3.0)\n",
      "Requirement already satisfied: typing-extensions<5,>=4.10 in c:\\anaconda\\anaconda3\\envs\\genailearning\\lib\\site-packages (from groq<1,>=0.4.1->langchain-groq) (4.12.2)\n",
      "Requirement already satisfied: PyYAML>=5.3 in c:\\anaconda\\anaconda3\\envs\\genailearning\\lib\\site-packages (from langchain-core<0.4.0,>=0.3.29->langchain-groq) (6.0.2)\n",
      "Requirement already satisfied: jsonpatch<2.0,>=1.33 in c:\\anaconda\\anaconda3\\envs\\genailearning\\lib\\site-packages (from langchain-core<0.4.0,>=0.3.29->langchain-groq) (1.33)\n",
      "Requirement already satisfied: langsmith<0.3,>=0.1.125 in c:\\anaconda\\anaconda3\\envs\\genailearning\\lib\\site-packages (from langchain-core<0.4.0,>=0.3.29->langchain-groq) (0.2.4)\n",
      "Requirement already satisfied: packaging<25,>=23.2 in c:\\anaconda\\anaconda3\\envs\\genailearning\\lib\\site-packages (from langchain-core<0.4.0,>=0.3.29->langchain-groq) (24.1)\n",
      "Requirement already satisfied: tenacity!=8.4.0,<10.0.0,>=8.1.0 in c:\\anaconda\\anaconda3\\envs\\genailearning\\lib\\site-packages (from langchain-core<0.4.0,>=0.3.29->langchain-groq) (9.0.0)\n",
      "Requirement already satisfied: idna>=2.8 in c:\\anaconda\\anaconda3\\envs\\genailearning\\lib\\site-packages (from anyio<5,>=3.5.0->groq<1,>=0.4.1->langchain-groq) (3.10)\n",
      "Requirement already satisfied: certifi in c:\\anaconda\\anaconda3\\envs\\genailearning\\lib\\site-packages (from httpx<1,>=0.23.0->groq<1,>=0.4.1->langchain-groq) (2024.8.30)\n",
      "Requirement already satisfied: httpcore==1.* in c:\\anaconda\\anaconda3\\envs\\genailearning\\lib\\site-packages (from httpx<1,>=0.23.0->groq<1,>=0.4.1->langchain-groq) (1.0.2)\n",
      "Requirement already satisfied: h11<0.15,>=0.13 in c:\\anaconda\\anaconda3\\envs\\genailearning\\lib\\site-packages (from httpcore==1.*->httpx<1,>=0.23.0->groq<1,>=0.4.1->langchain-groq) (0.14.0)\n",
      "Requirement already satisfied: jsonpointer>=1.9 in c:\\anaconda\\anaconda3\\envs\\genailearning\\lib\\site-packages (from jsonpatch<2.0,>=1.33->langchain-core<0.4.0,>=0.3.29->langchain-groq) (3.0.0)\n",
      "Requirement already satisfied: orjson<4.0.0,>=3.9.14 in c:\\anaconda\\anaconda3\\envs\\genailearning\\lib\\site-packages (from langsmith<0.3,>=0.1.125->langchain-core<0.4.0,>=0.3.29->langchain-groq) (3.10.12)\n",
      "Requirement already satisfied: requests<3,>=2 in c:\\anaconda\\anaconda3\\envs\\genailearning\\lib\\site-packages (from langsmith<0.3,>=0.1.125->langchain-core<0.4.0,>=0.3.29->langchain-groq) (2.32.3)\n",
      "Requirement already satisfied: requests-toolbelt<2.0.0,>=1.0.0 in c:\\anaconda\\anaconda3\\envs\\genailearning\\lib\\site-packages (from langsmith<0.3,>=0.1.125->langchain-core<0.4.0,>=0.3.29->langchain-groq) (1.0.0)\n",
      "Requirement already satisfied: annotated-types>=0.6.0 in c:\\anaconda\\anaconda3\\envs\\genailearning\\lib\\site-packages (from pydantic<3,>=1.9.0->groq<1,>=0.4.1->langchain-groq) (0.7.0)\n",
      "Requirement already satisfied: pydantic-core==2.23.4 in c:\\anaconda\\anaconda3\\envs\\genailearning\\lib\\site-packages (from pydantic<3,>=1.9.0->groq<1,>=0.4.1->langchain-groq) (2.23.4)\n",
      "Requirement already satisfied: charset-normalizer<4,>=2 in c:\\anaconda\\anaconda3\\envs\\genailearning\\lib\\site-packages (from requests<3,>=2->langsmith<0.3,>=0.1.125->langchain-core<0.4.0,>=0.3.29->langchain-groq) (3.3.2)\n",
      "Requirement already satisfied: urllib3<3,>=1.21.1 in c:\\anaconda\\anaconda3\\envs\\genailearning\\lib\\site-packages (from requests<3,>=2->langsmith<0.3,>=0.1.125->langchain-core<0.4.0,>=0.3.29->langchain-groq) (2.2.3)\n",
      "Downloading langchain_groq-0.2.3-py3-none-any.whl (14 kB)\n",
      "Downloading langchain_core-0.3.29-py3-none-any.whl (411 kB)\n",
      "Installing collected packages: langchain-core, langchain-groq\n",
      "  Attempting uninstall: langchain-core\n",
      "    Found existing installation: langchain-core 0.3.28\n",
      "    Uninstalling langchain-core-0.3.28:\n",
      "      Successfully uninstalled langchain-core-0.3.28\n",
      "Successfully installed langchain-core-0.3.29 langchain-groq-0.2.3\n"
     ]
    }
   ],
   "source": [
    "!pip install langchain-groq\n"
   ]
  },
  {
   "cell_type": "code",
   "execution_count": 14,
   "id": "73196d34-bbc6-49b6-ae1e-3a3420c76c84",
   "metadata": {},
   "outputs": [],
   "source": [
    "from langchain_groq import ChatGroq"
   ]
  },
  {
   "cell_type": "code",
   "execution_count": 16,
   "id": "25dc27cd-dccc-4a03-8a76-95514c13b24b",
   "metadata": {},
   "outputs": [
    {
     "name": "stdout",
     "output_type": "stream",
     "text": [
      "Hello. I'm doing well, thanks for asking. I'm a large language model, so I don't have feelings or emotions like humans do, but I'm functioning properly and ready to assist you with any questions or tasks you may have. How about you? How's your day going so far?\n"
     ]
    }
   ],
   "source": [
    "llm = ChatGroq(model =\"llama-3.1-70b-versatile\", temperature =0, api_key=groq_api_key)\n",
    "response = llm.invoke(\"Hello How are your today?\")\n",
    "print(response.content)"
   ]
  },
  {
   "cell_type": "markdown",
   "id": "773aa312-3c25-46e8-97ac-2b480fdedfbf",
   "metadata": {},
   "source": [
    "# Create ReActAgent"
   ]
  },
  {
   "cell_type": "code",
   "execution_count": 17,
   "id": "03b5cf86-a52a-4829-9f45-089ff725a6f7",
   "metadata": {},
   "outputs": [
    {
     "name": "stderr",
     "output_type": "stream",
     "text": [
      "C:\\Anaconda\\anaconda3\\envs\\genailearning\\Lib\\site-packages\\langsmith\\client.py:261: LangSmithMissingAPIKeyWarning: API key must be provided when using hosted LangSmith API\n",
      "  warnings.warn(\n"
     ]
    },
    {
     "name": "stdout",
     "output_type": "stream",
     "text": [
      "Answer the following questions as best you can. You have access to the following tools:\n",
      "\n",
      "{tools}\n",
      "\n",
      "Use the following format:\n",
      "\n",
      "Question: the input question you must answer\n",
      "Thought: you should always think about what to do\n",
      "Action: the action to take, should be one of [{tool_names}]\n",
      "Action Input: the input to the action\n",
      "Observation: the result of the action\n",
      "... (this Thought/Action/Action Input/Observation can repeat N times)\n",
      "Thought: I now know the final answer\n",
      "Final Answer: the final answer to the original input question\n",
      "\n",
      "Begin!\n",
      "\n",
      "Question: {input}\n",
      "Thought:{agent_scratchpad}\n"
     ]
    }
   ],
   "source": [
    "#pull reach template\n",
    "\n",
    "from langchain import hub\n",
    "prompt = hub.pull(\"hwchase17/react\")\n",
    "print(prompt.template)"
   ]
  },
  {
   "cell_type": "code",
   "execution_count": 20,
   "id": "6def6c4f-2796-458a-8d24-3f1b71c5c435",
   "metadata": {},
   "outputs": [],
   "source": [
    "from langchain.agents import create_react_agent, AgentExecutor"
   ]
  },
  {
   "cell_type": "code",
   "execution_count": null,
   "id": "dfbb074d-2ce1-4f65-b18b-094f42f8844a",
   "metadata": {},
   "outputs": [],
   "source": []
  },
  {
   "cell_type": "code",
   "execution_count": 21,
   "id": "cb8eb0b7-0b5d-49f0-86c7-3dceb555d9cc",
   "metadata": {},
   "outputs": [
    {
     "ename": "NameError",
     "evalue": "name 'tool_search' is not defined",
     "output_type": "error",
     "traceback": [
      "\u001b[1;31m---------------------------------------------------------------------------\u001b[0m",
      "\u001b[1;31mNameError\u001b[0m                                 Traceback (most recent call last)",
      "Cell \u001b[1;32mIn[21], line 2\u001b[0m\n\u001b[0;32m      1\u001b[0m \u001b[38;5;66;03m# only creates the logical steps for us\u001b[39;00m\n\u001b[1;32m----> 2\u001b[0m react_agent \u001b[38;5;241m=\u001b[39m create_react_agent(llm, [tool_search], prompt)\n",
      "\u001b[1;31mNameError\u001b[0m: name 'tool_search' is not defined"
     ]
    }
   ],
   "source": [
    "# only creates the logical steps for us\n",
    "react_agent = create_react_agent(llm, [tool_search], prompt)"
   ]
  },
  {
   "cell_type": "code",
   "execution_count": null,
   "id": "0ce2489e-a7ef-4512-9e31-1e4eb855c83b",
   "metadata": {},
   "outputs": [],
   "source": []
  }
 ],
 "metadata": {
  "kernelspec": {
   "display_name": "Python 3 (ipykernel)",
   "language": "python",
   "name": "python3"
  },
  "language_info": {
   "codemirror_mode": {
    "name": "ipython",
    "version": 3
   },
   "file_extension": ".py",
   "mimetype": "text/x-python",
   "name": "python",
   "nbconvert_exporter": "python",
   "pygments_lexer": "ipython3",
   "version": "3.12.7"
  }
 },
 "nbformat": 4,
 "nbformat_minor": 5
}
